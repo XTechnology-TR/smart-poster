{
 "cells": [
  {
   "cell_type": "code",
   "execution_count": 1,
   "id": "tutorial-artwork",
   "metadata": {},
   "outputs": [
    {
     "name": "stderr",
     "output_type": "stream",
     "text": [
      "C:\\Users\\muril\\.virtualenvs\\insta-post-generator-N5ODM5nx\\lib\\site-packages\\gensim\\similarities\\__init__.py:15: UserWarning: The gensim.similarities.levenshtein submodule is disabled, because the optional Levenshtein package <https://pypi.org/project/python-Levenshtein/> is unavailable. Install Levenhstein (e.g. `pip install python-Levenshtein`) to suppress this warning.\n",
      "  warnings.warn(msg)\n",
      "[nltk_data] Downloading package stopwords to\n",
      "[nltk_data]     C:\\Users\\muril\\AppData\\Roaming\\nltk_data...\n",
      "[nltk_data]   Package stopwords is already up-to-date!\n",
      "[nltk_data] Downloading package wordnet to\n",
      "[nltk_data]     C:\\Users\\muril\\AppData\\Roaming\\nltk_data...\n",
      "[nltk_data]   Package wordnet is already up-to-date!\n"
     ]
    },
    {
     "name": "stdout",
     "output_type": "stream",
     "text": [
      "0 I'm selfish, impatient and a little insecure. I make mistakes, i am out of control and 86 {control, insecure, mistakes}\n",
      "1 You've gotta dance like there's nobody watching, love like you'll never be hurt, sing like there's 98 {Love}\n",
      "2 You know you're in love when you can't fall asleep because reality is finally better than 89 {reality, love}\n",
      "3 Friendship . . . Is born at the moment when one man says to another \"what! 74 {moment, Friendship, man}\n",
      "4 A friend is someone who knows all about you and still loves you. 64 {friend}\n",
      "5 Darkness cannot drive out darkness: only light can do that. Hate cannot drive out hate: only 92 {hate, light, Hate, Darkness, darkness}\n",
      "6 We accept the love we think we deserve. 39 {love}\n",
      "7 Twenty years from now you will be more disappointed by the things that you didn't do 84 {years, things}\n",
      "8 It is better to be hated for what you are than to be loved for what 67 set()\n",
      "9 Only once in your life, i truly believe, you find someone who can completely turn your 86 {life}\n"
     ]
    }
   ],
   "source": [
    "import re\n",
    "import spacy\n",
    "from src.text.extract import QuoteExtractor\n",
    "nlp = spacy.load('en_core_web_sm')\n",
    "qe = QuoteExtractor('love')\n",
    "\n",
    "for i,q in enumerate(qe.results):\n",
    "    quote = q.quote\n",
    "    txt = ' '.join(quote.split(' ')[:16])\n",
    "    nouns = set([t for t in nlp(txt) if str(t.pos_) == 'NOUN'])\n",
    "    if (len(nouns) == 0):\n",
    "        nouns = set([t for t in nlp(txt.title()) if str(t.pos_) == 'NOUN'])\n",
    "    print (i, txt, len(txt), nouns)"
   ]
  }
 ],
 "metadata": {
  "kernelspec": {
   "display_name": "Python 3",
   "language": "python",
   "name": "python3"
  },
  "language_info": {
   "codemirror_mode": {
    "name": "ipython",
    "version": 3
   },
   "file_extension": ".py",
   "mimetype": "text/x-python",
   "name": "python",
   "nbconvert_exporter": "python",
   "pygments_lexer": "ipython3",
   "version": "3.9.4"
  }
 },
 "nbformat": 4,
 "nbformat_minor": 5
}
