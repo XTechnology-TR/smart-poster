{
 "cells": [
  {
   "cell_type": "code",
   "execution_count": 14,
   "id": "binary-knock",
   "metadata": {},
   "outputs": [
    {
     "name": "stdout",
     "output_type": "stream",
     "text": [
      "_mIXHvl_wzA https://unsplash.com/photos/_mIXHvl_wzA/download\n",
      "YyFwUKzv5FM https://unsplash.com/photos/YyFwUKzv5FM/download\n",
      "odxB5oIG_iA https://unsplash.com/photos/odxB5oIG_iA/download\n",
      "hrEJYRtBDrk https://unsplash.com/photos/hrEJYRtBDrk/download\n",
      "e-S-Pe2EmrE https://unsplash.com/photos/e-S-Pe2EmrE/download\n",
      "EAvS-4KnGrk https://unsplash.com/photos/EAvS-4KnGrk/download\n",
      "r2nJPbEYuSQ https://unsplash.com/photos/r2nJPbEYuSQ/download\n",
      "zh0J32MrJfA https://unsplash.com/photos/zh0J32MrJfA/download\n",
      "5d20kdvFCfA https://unsplash.com/photos/5d20kdvFCfA/download\n",
      "P1sMtXL4jow https://unsplash.com/photos/P1sMtXL4jow/download\n"
     ]
    }
   ],
   "source": [
    "from src.ImgManipulator.extract import unsplash\n",
    "search = unsplash.search(type_='photos', query='freedom')\n",
    "for photo in search.entries:\n",
    "    print (photo.id, photo.link_download)"
   ]
  }
 ],
 "metadata": {
  "kernelspec": {
   "display_name": "Python 3",
   "language": "python",
   "name": "python3"
  },
  "language_info": {
   "codemirror_mode": {
    "name": "ipython",
    "version": 3
   },
   "file_extension": ".py",
   "mimetype": "text/x-python",
   "name": "python",
   "nbconvert_exporter": "python",
   "pygments_lexer": "ipython3",
   "version": "3.9.4"
  }
 },
 "nbformat": 4,
 "nbformat_minor": 5
}
