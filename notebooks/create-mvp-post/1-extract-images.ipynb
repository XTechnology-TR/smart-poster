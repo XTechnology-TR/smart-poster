{
 "cells": [
  {
   "cell_type": "code",
   "execution_count": 1,
   "id": "former-saturn",
   "metadata": {},
   "outputs": [
    {
     "name": "stdout",
     "output_type": "stream",
     "text": [
      "0 https://images.unsplash.com/photo-1567427018141-0584cfcbf1b8?crop=entropy&cs=srgb&fm=jpg&ixid=MnwxNTc1MDl8MHwxfHNlYXJjaHwzfHxTY2llbmNlfGVufDB8fHx8MTYxODkyMTQyMg&ixlib=rb-1.2.1&q=85\n",
      "1 https://images.unsplash.com/photo-1581091014534-898da33e356e?crop=entropy&cs=srgb&fm=jpg&ixid=MnwxNTc1MDl8MHwxfHNlYXJjaHw5fHxTY2llbmNlfGVufDB8fHx8MTYxODkyMTQyMg&ixlib=rb-1.2.1&q=85\n",
      "2 https://images.unsplash.com/photo-1549925245-f20a1bac6454?crop=entropy&cs=srgb&fm=jpg&ixid=MnwxNTc1MDl8MHwxfHNlYXJjaHwyfHxTY2llbmNlfGVufDB8fHx8MTYxODkyMTQyMg&ixlib=rb-1.2.1&q=85\n",
      "3 https://images.unsplash.com/photo-1507413245164-6160d8298b31?crop=entropy&cs=srgb&fm=jpg&ixid=MnwxNTc1MDl8MHwxfHNlYXJjaHwxMHx8U2NpZW5jZXxlbnwwfHx8fDE2MTg5MjE0MjI&ixlib=rb-1.2.1&q=85\n",
      "4 https://images.unsplash.com/photo-1576086213369-97a306d36557?crop=entropy&cs=srgb&fm=jpg&ixid=MnwxNTc1MDl8MHwxfHNlYXJjaHw4fHxTY2llbmNlfGVufDB8fHx8MTYxODkyMTQyMg&ixlib=rb-1.2.1&q=85\n",
      "5 https://images.unsplash.com/photo-1564325724739-bae0bd08762c?crop=entropy&cs=srgb&fm=jpg&ixid=MnwxNTc1MDl8MHwxfHNlYXJjaHw1fHxTY2llbmNlfGVufDB8fHx8MTYxODkyMTQyMg&ixlib=rb-1.2.1&q=85\n",
      "6 https://images.unsplash.com/photo-1581093588401-fbb62a02f120?crop=entropy&cs=srgb&fm=jpg&ixid=MnwxNTc1MDl8MHwxfHNlYXJjaHw2fHxTY2llbmNlfGVufDB8fHx8MTYxODkyMTQyMg&ixlib=rb-1.2.1&q=85\n",
      "7 https://images.unsplash.com/photo-1554475900-0a0350e3fc7b?crop=entropy&cs=srgb&fm=jpg&ixid=MnwxNTc1MDl8MHwxfHNlYXJjaHw3fHxTY2llbmNlfGVufDB8fHx8MTYxODkyMTQyMg&ixlib=rb-1.2.1&q=85\n",
      "8 https://images.unsplash.com/photo-1532094349884-543bc11b234d?crop=entropy&cs=srgb&fm=jpg&ixid=MnwxNTc1MDl8MHwxfHNlYXJjaHwxfHxTY2llbmNlfGVufDB8fHx8MTYxODkyMTQyMg&ixlib=rb-1.2.1&q=85\n",
      "9 https://images.unsplash.com/photo-1507668077129-56e32842fceb?crop=entropy&cs=srgb&fm=jpg&ixid=MnwxNTc1MDl8MHwxfHNlYXJjaHw0fHxTY2llbmNlfGVufDB8fHx8MTYxODkyMTQyMg&ixlib=rb-1.2.1&q=85\n",
      "====================\n",
      "0 https://images.unsplash.com/photo-1532187863486-abf9dbad1b69?crop=entropy&cs=srgb&fm=jpg&ixid=MnwxNTc1MDl8MHwxfHNlYXJjaHwxN3x8U2NpZW5jZXxlbnwwfHx8fDE2MTg5MjE4MDg&ixlib=rb-1.2.1&q=85\n",
      "1 https://images.unsplash.com/photo-1549925245-f20a1bac6454?crop=entropy&cs=srgb&fm=jpg&ixid=MnwxNTc1MDl8MHwxfHNlYXJjaHwyfHxTY2llbmNlfGVufDB8fHx8MTYxODkyMTQyMg&ixlib=rb-1.2.1&q=85\n",
      "2 https://images.unsplash.com/photo-1507413245164-6160d8298b31?crop=entropy&cs=srgb&fm=jpg&ixid=MnwxNTc1MDl8MHwxfHNlYXJjaHwxMHx8U2NpZW5jZXxlbnwwfHx8fDE2MTg5MjE0MjI&ixlib=rb-1.2.1&q=85\n",
      "3 https://images.unsplash.com/photo-1518842013791-b874be246c34?crop=entropy&cs=srgb&fm=jpg&ixid=MnwxNTc1MDl8MHwxfHNlYXJjaHwxOHx8U2NpZW5jZXxlbnwwfHx8fDE2MTg5MjE4MDg&ixlib=rb-1.2.1&q=85\n",
      "4 https://images.unsplash.com/photo-1581093588401-fbb62a02f120?crop=entropy&cs=srgb&fm=jpg&ixid=MnwxNTc1MDl8MHwxfHNlYXJjaHw2fHxTY2llbmNlfGVufDB8fHx8MTYxODkyMTQyMg&ixlib=rb-1.2.1&q=85\n",
      "5 https://images.unsplash.com/photo-1507668077129-56e32842fceb?crop=entropy&cs=srgb&fm=jpg&ixid=MnwxNTc1MDl8MHwxfHNlYXJjaHw0fHxTY2llbmNlfGVufDB8fHx8MTYxODkyMTQyMg&ixlib=rb-1.2.1&q=85\n",
      "6 https://images.unsplash.com/photo-1501740326664-5571ff5e30a6?crop=entropy&cs=srgb&fm=jpg&ixid=MnwxNTc1MDl8MHwxfHNlYXJjaHwxOXx8U2NpZW5jZXxlbnwwfHx8fDE2MTg5MjE4MDg&ixlib=rb-1.2.1&q=85\n",
      "7 https://images.unsplash.com/photo-1518152006812-edab29b069ac?crop=entropy&cs=srgb&fm=jpg&ixid=MnwxNTc1MDl8MHwxfHNlYXJjaHwxNnx8U2NpZW5jZXxlbnwwfHx8fDE2MTg5MjE4MDg&ixlib=rb-1.2.1&q=85\n",
      "8 https://images.unsplash.com/photo-1534777410147-084a460870fc?crop=entropy&cs=srgb&fm=jpg&ixid=MnwxNTc1MDl8MHwxfHNlYXJjaHwxNXx8U2NpZW5jZXxlbnwwfHx8fDE2MTg5MjE4MDg&ixlib=rb-1.2.1&q=85\n",
      "9 https://images.unsplash.com/photo-1567427018141-0584cfcbf1b8?crop=entropy&cs=srgb&fm=jpg&ixid=MnwxNTc1MDl8MHwxfHNlYXJjaHwzfHxTY2llbmNlfGVufDB8fHx8MTYxODkyMTQyMg&ixlib=rb-1.2.1&q=85\n",
      "10 https://images.unsplash.com/photo-1532094349884-543bc11b234d?crop=entropy&cs=srgb&fm=jpg&ixid=MnwxNTc1MDl8MHwxfHNlYXJjaHwxfHxTY2llbmNlfGVufDB8fHx8MTYxODkyMTQyMg&ixlib=rb-1.2.1&q=85\n",
      "11 https://images.unsplash.com/photo-1581091014534-898da33e356e?crop=entropy&cs=srgb&fm=jpg&ixid=MnwxNTc1MDl8MHwxfHNlYXJjaHw5fHxTY2llbmNlfGVufDB8fHx8MTYxODkyMTQyMg&ixlib=rb-1.2.1&q=85\n",
      "12 https://images.unsplash.com/photo-1530210124550-912dc1381cb8?crop=entropy&cs=srgb&fm=jpg&ixid=MnwxNTc1MDl8MHwxfHNlYXJjaHwxNHx8U2NpZW5jZXxlbnwwfHx8fDE2MTg5MjE4MDg&ixlib=rb-1.2.1&q=85\n",
      "13 https://images.unsplash.com/photo-1576086213369-97a306d36557?crop=entropy&cs=srgb&fm=jpg&ixid=MnwxNTc1MDl8MHwxfHNlYXJjaHw4fHxTY2llbmNlfGVufDB8fHx8MTYxODkyMTQyMg&ixlib=rb-1.2.1&q=85\n",
      "14 https://images.unsplash.com/photo-1496065187959-7f07b8353c55?crop=entropy&cs=srgb&fm=jpg&ixid=MnwxNTc1MDl8MHwxfHNlYXJjaHwxM3x8U2NpZW5jZXxlbnwwfHx8fDE2MTg5MjE4MDg&ixlib=rb-1.2.1&q=85\n",
      "15 https://images.unsplash.com/photo-1564325724739-bae0bd08762c?crop=entropy&cs=srgb&fm=jpg&ixid=MnwxNTc1MDl8MHwxfHNlYXJjaHw1fHxTY2llbmNlfGVufDB8fHx8MTYxODkyMTQyMg&ixlib=rb-1.2.1&q=85\n",
      "16 https://images.unsplash.com/photo-1575503802870-45de6a6217c8?crop=entropy&cs=srgb&fm=jpg&ixid=MnwxNTc1MDl8MHwxfHNlYXJjaHwxMXx8U2NpZW5jZXxlbnwwfHx8fDE2MTg5MjE4MDg&ixlib=rb-1.2.1&q=85\n",
      "17 https://images.unsplash.com/photo-1554475900-0a0350e3fc7b?crop=entropy&cs=srgb&fm=jpg&ixid=MnwxNTc1MDl8MHwxfHNlYXJjaHw3fHxTY2llbmNlfGVufDB8fHx8MTYxODkyMTQyMg&ixlib=rb-1.2.1&q=85\n",
      "18 https://images.unsplash.com/photo-1582719471384-894fbb16e074?crop=entropy&cs=srgb&fm=jpg&ixid=MnwxNTc1MDl8MHwxfHNlYXJjaHwxMnx8U2NpZW5jZXxlbnwwfHx8fDE2MTg5MjE4MDg&ixlib=rb-1.2.1&q=85\n",
      "19 https://images.unsplash.com/photo-1511174511562-5f7f18b874f8?crop=entropy&cs=srgb&fm=jpg&ixid=MnwxNTc1MDl8MHwxfHNlYXJjaHwyMHx8U2NpZW5jZXxlbnwwfHx8fDE2MTg5MjE4MDg&ixlib=rb-1.2.1&q=85\n"
     ]
    }
   ],
   "source": [
    "from src.image.extract import ApiImgExtractor\n",
    "api = ApiImgExtractor('unsplash')\n",
    "api.query(_search_params={\n",
    "    'q': 'Science',\n",
    "    'imgType': 'photos'\n",
    "})\n",
    "for i, url in enumerate(api.img_urls):\n",
    "    print(i, url)\n",
    "api.paginate_results()\n",
    "print(20*'=')\n",
    "for i, url in enumerate(api.img_urls):\n",
    "    print(i, url)"
   ]
  },
  {
   "cell_type": "code",
   "execution_count": 4,
   "id": "norwegian-library",
   "metadata": {},
   "outputs": [
    {
     "name": "stdout",
     "output_type": "stream",
     "text": [
      "0 https://www.indiewire.com/wp-content/uploads/2019/08/shutterstock_9916991l.jpg\n",
      "====================\n",
      "0 https://www.indiewire.com/wp-content/uploads/2019/08/shutterstock_9916991l.jpg\n",
      "1 https://static01.nyt.com/images/2018/12/02/arts/02tyson-print/02tyson-print-superJumbo.jpg\n"
     ]
    }
   ],
   "source": [
    "from src.image.extract import ApiImgExtractor\n",
    "api = ApiImgExtractor('google')\n",
    "api.query(_search_params={\n",
    "    'q': 'Neil deGrasse Tyson',\n",
    "    'imgType': 'photo'\n",
    "})\n",
    "for i, url in enumerate(api.img_urls):\n",
    "    print(i, url)\n",
    "api.paginate_results()\n",
    "print(20*'=')\n",
    "for i, url in enumerate(api.img_urls):\n",
    "    print(i, url)"
   ]
  }
 ],
 "metadata": {
  "kernelspec": {
   "display_name": "Python 3",
   "language": "python",
   "name": "python3"
  },
  "language_info": {
   "codemirror_mode": {
    "name": "ipython",
    "version": 3
   },
   "file_extension": ".py",
   "mimetype": "text/x-python",
   "name": "python",
   "nbconvert_exporter": "python",
   "pygments_lexer": "ipython3",
   "version": "3.9.4"
  }
 },
 "nbformat": 4,
 "nbformat_minor": 5
}
