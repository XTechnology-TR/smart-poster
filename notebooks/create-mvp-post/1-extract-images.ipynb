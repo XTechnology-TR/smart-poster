{
 "cells": [
  {
   "cell_type": "code",
   "execution_count": 5,
   "id": "concrete-syracuse",
   "metadata": {},
   "outputs": [
    {
     "name": "stdout",
     "output_type": "stream",
     "text": [
      "0B4BECR9nGM https://unsplash.com/photos/0B4BECR9nGM/download\n",
      "hR8IZoB7etc https://unsplash.com/photos/hR8IZoB7etc/download\n",
      "L-rLocei9ks https://unsplash.com/photos/L-rLocei9ks/download\n",
      "nmxMDXWC5Zc https://unsplash.com/photos/nmxMDXWC5Zc/download\n",
      "4HQ7vzjRfjY https://unsplash.com/photos/4HQ7vzjRfjY/download\n",
      "FNhiugWB2xs https://unsplash.com/photos/FNhiugWB2xs/download\n",
      "e5eDHbmHprg https://unsplash.com/photos/e5eDHbmHprg/download\n",
      "hpt0AJPZ0Aw https://unsplash.com/photos/hpt0AJPZ0Aw/download\n",
      "jQ556tVEeME https://unsplash.com/photos/jQ556tVEeME/download\n",
      "WwrQnL0Gi1c https://unsplash.com/photos/WwrQnL0Gi1c/download\n"
     ]
    }
   ],
   "source": [
    "from src.image.extract import search\n",
    "results = search(query='Neil deGrasse Tyson', type_='photos')\n",
    "for photo in results.entries:\n",
    "    print (photo.id, photo.link_download)"
   ]
  },
  {
   "cell_type": "code",
   "execution_count": 6,
   "id": "italic-bathroom",
   "metadata": {},
   "outputs": [
    {
     "name": "stdout",
     "output_type": "stream",
     "text": [
      "https://www.indiewire.com/wp-content/uploads/2019/08/shutterstock_9916991l.jpg\n",
      "https://static01.nyt.com/images/2018/12/02/arts/02tyson-print/02tyson-print-superJumbo.jpg\n",
      "https://static01.nyt.com/images/2018/12/02/arts/02tyson-print/02tyson-print-articleLarge.jpg?quality=75&auto=webp&disable=upscale\n",
      "https://im-media.voltron.voanews.com/Drupal/01live-166/styles/sourced/s3/ap-images/2019/07/80220390f4660b90e5c3a976edc7c486.jpg?itok=TETQhBts\n",
      "https://www.indiewire.com/wp-content/uploads/2019/08/shutterstock_9916991l.jpg?w=780\n",
      "https://www.incimages.com/uploaded_files/image/1920x1080/getty_915238322_2000136520009280104_399139.jpg\n",
      "https://api.time.com/wp-content/uploads/2014/09/gravity-falls-degrasse-tyson2.jpg?quality=85&w=1200&h=628&crop=1\n",
      "https://news.artnet.com/app/news-upload/2019/07/GettyImages-855668196-1024x576.jpg\n",
      "https://api.time.com/wp-content/uploads/2014/12/450132218.jpg\n",
      "https://api.time.com/wp-content/uploads/2015/01/neil-degrasse-tyson.jpg\n"
     ]
    }
   ],
   "source": [
    "results = search(query='Neil deGrasse Tyson', type_='photo', api='google')\n",
    "for photo in results.results():\n",
    "    print(photo.url)"
   ]
  }
 ],
 "metadata": {
  "kernelspec": {
   "display_name": "Python 3",
   "language": "python",
   "name": "python3"
  },
  "language_info": {
   "codemirror_mode": {
    "name": "ipython",
    "version": 3
   },
   "file_extension": ".py",
   "mimetype": "text/x-python",
   "name": "python",
   "nbconvert_exporter": "python",
   "pygments_lexer": "ipython3",
   "version": "3.9.4"
  }
 },
 "nbformat": 4,
 "nbformat_minor": 5
}
