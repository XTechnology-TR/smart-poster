{
 "cells": [
  {
   "cell_type": "code",
   "execution_count": 8,
   "id": "interesting-helping",
   "metadata": {},
   "outputs": [
    {
     "name": "stdout",
     "output_type": "stream",
     "text": [
      "lQGJCMY5qcM https://unsplash.com/photos/lQGJCMY5qcM/download\n",
      "tEVGmMaPFXk https://unsplash.com/photos/tEVGmMaPFXk/download\n",
      "L9EV3OogLh0 https://unsplash.com/photos/L9EV3OogLh0/download\n",
      "jw3GOzxiSkw https://unsplash.com/photos/jw3GOzxiSkw/download\n",
      "G66K_ERZRhM https://unsplash.com/photos/G66K_ERZRhM/download\n",
      "nZbtducZUFU https://unsplash.com/photos/nZbtducZUFU/download\n",
      "yS3XM9qx3hQ https://unsplash.com/photos/yS3XM9qx3hQ/download\n",
      "L7en7Lb-Ovc https://unsplash.com/photos/L7en7Lb-Ovc/download\n",
      "qI7USKbZY_A https://unsplash.com/photos/qI7USKbZY_A/download\n",
      "OgvqXGL7XO4 https://unsplash.com/photos/OgvqXGL7XO4/download\n"
     ]
    }
   ],
   "source": [
    "from src.image.extract import search\n",
    "results = search(query='Science', type_='photos')\n",
    "for photo in results.entries:\n",
    "    print (photo.id, photo.link_download)"
   ]
  },
  {
   "cell_type": "code",
   "execution_count": 6,
   "id": "timely-generator",
   "metadata": {},
   "outputs": [
    {
     "name": "stdout",
     "output_type": "stream",
     "text": [
      "https://www.indiewire.com/wp-content/uploads/2019/08/shutterstock_9916991l.jpg\n",
      "https://static01.nyt.com/images/2018/12/02/arts/02tyson-print/02tyson-print-superJumbo.jpg\n",
      "https://static01.nyt.com/images/2018/12/02/arts/02tyson-print/02tyson-print-articleLarge.jpg?quality=75&auto=webp&disable=upscale\n",
      "https://im-media.voltron.voanews.com/Drupal/01live-166/styles/sourced/s3/ap-images/2019/07/80220390f4660b90e5c3a976edc7c486.jpg?itok=TETQhBts\n",
      "https://www.indiewire.com/wp-content/uploads/2019/08/shutterstock_9916991l.jpg?w=780\n",
      "https://www.incimages.com/uploaded_files/image/1920x1080/getty_915238322_2000136520009280104_399139.jpg\n",
      "https://api.time.com/wp-content/uploads/2014/09/gravity-falls-degrasse-tyson2.jpg?quality=85&w=1200&h=628&crop=1\n",
      "https://news.artnet.com/app/news-upload/2019/07/GettyImages-855668196-1024x576.jpg\n",
      "https://api.time.com/wp-content/uploads/2014/12/450132218.jpg\n",
      "https://api.time.com/wp-content/uploads/2015/01/neil-degrasse-tyson.jpg\n"
     ]
    }
   ],
   "source": [
    "results = search(query='Neil deGrasse Tyson', type_='photo', api='google')\n",
    "for photo in results.results():\n",
    "    print(photo.url)"
   ]
  }
 ],
 "metadata": {
  "kernelspec": {
   "display_name": "Python 3",
   "language": "python",
   "name": "python3"
  },
  "language_info": {
   "codemirror_mode": {
    "name": "ipython",
    "version": 3
   },
   "file_extension": ".py",
   "mimetype": "text/x-python",
   "name": "python",
   "nbconvert_exporter": "python",
   "pygments_lexer": "ipython3",
   "version": "3.9.4"
  }
 },
 "nbformat": 4,
 "nbformat_minor": 5
}
