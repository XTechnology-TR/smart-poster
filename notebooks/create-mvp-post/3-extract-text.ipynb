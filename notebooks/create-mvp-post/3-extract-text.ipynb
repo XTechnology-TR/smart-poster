{
 "cells": [
  {
   "cell_type": "code",
   "execution_count": 20,
   "id": "advance-nitrogen",
   "metadata": {},
   "outputs": [
    {
     "name": "stdout",
     "output_type": "stream",
     "text": [
      "[{'author': 'Kent M. Keith', 'book': 'The Silent Revolution: Dynamic Leadership in the Student Council', 'quote': \" The Paradoxical Commandments People are illogical, unreasonable, and self-centered.Love them anyway.If you do good, people will accuse you of selfish ulterior motives.Do good anyway.If you are successful, you will win false friends and true enemies.Succeed anyway.The good you do today will be forgotten tomorrow.Do good anyway.Honesty and frankness make you vulnerable.Be honest and frank anyway.The biggest men and women with the biggest ideas can be shot down by the smallest men and women with the smallest minds.Think big anyway.People favor underdogs but follow only top dogs.Fight for a few underdogs anyway.What you spend years building may be destroyed overnight.Build anyway.People really need help but may attack you if you do help them.Help people anyway.Give the world the best you have and you'll get kicked in the teeth.Give the world the best you have anyway.\"}]\n"
     ]
    }
   ],
   "source": [
    "from quote import quote\n",
    "\n",
    "search = 'motivation'\n",
    "result = quote(search, limit=1)\n",
    "print(result)"
   ]
  }
 ],
 "metadata": {
  "kernelspec": {
   "display_name": "Python 3",
   "language": "python",
   "name": "python3"
  },
  "language_info": {
   "codemirror_mode": {
    "name": "ipython",
    "version": 3
   },
   "file_extension": ".py",
   "mimetype": "text/x-python",
   "name": "python",
   "nbconvert_exporter": "python",
   "pygments_lexer": "ipython3",
   "version": "3.9.4"
  }
 },
 "nbformat": 4,
 "nbformat_minor": 5
}
