{
 "cells": [
  {
   "cell_type": "code",
   "execution_count": 22,
   "id": "excited-channels",
   "metadata": {},
   "outputs": [
    {
     "name": "stdout",
     "output_type": "stream",
     "text": [
      "[{'author': 'Albert Einstein', 'book': '', 'quote': \"Two things are infinite: the universe and human stupidity; and I'm not sure about the universe.\"}]\n"
     ]
    }
   ],
   "source": [
    "from quote import quote\n",
    "\n",
    "search = 'Einstein'\n",
    "result = quote(search, limit=1)\n",
    "print(result)"
   ]
  }
 ],
 "metadata": {
  "kernelspec": {
   "display_name": "Python 3",
   "language": "python",
   "name": "python3"
  },
  "language_info": {
   "codemirror_mode": {
    "name": "ipython",
    "version": 3
   },
   "file_extension": ".py",
   "mimetype": "text/x-python",
   "name": "python",
   "nbconvert_exporter": "python",
   "pygments_lexer": "ipython3",
   "version": "3.9.4"
  }
 },
 "nbformat": 4,
 "nbformat_minor": 5
}
