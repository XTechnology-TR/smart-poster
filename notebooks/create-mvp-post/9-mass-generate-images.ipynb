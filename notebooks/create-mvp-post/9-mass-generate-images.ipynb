{
 "cells": [
  {
   "cell_type": "code",
   "execution_count": 2,
   "id": "fixed-distributor",
   "metadata": {},
   "outputs": [
    {
     "name": "stdout",
     "output_type": "stream",
     "text": [
      "Neil Armstrong 0\n",
      "Neil Armstrong 1\n",
      "Neil Armstrong 2\n"
     ]
    },
    {
     "ename": "TypeError",
     "evalue": "'NoneType' object is not iterable",
     "output_type": "error",
     "traceback": [
      "\u001b[1;31m---------------------------------------------------------------------------\u001b[0m",
      "\u001b[1;31mTypeError\u001b[0m                                 Traceback (most recent call last)",
      "\u001b[1;32m<ipython-input-2-d01354a15fe8>\u001b[0m in \u001b[0;36m<module>\u001b[1;34m\u001b[0m\n\u001b[0;32m     22\u001b[0m         \u001b[1;34m'imgType'\u001b[0m\u001b[1;33m:\u001b[0m \u001b[1;34m'photos'\u001b[0m\u001b[1;33m\u001b[0m\u001b[1;33m\u001b[0m\u001b[0m\n\u001b[0;32m     23\u001b[0m     })\n\u001b[1;32m---> 24\u001b[1;33m     \u001b[1;32mfor\u001b[0m \u001b[0mi\u001b[0m\u001b[1;33m,\u001b[0m \u001b[1;33m(\u001b[0m\u001b[0mq\u001b[0m\u001b[1;33m,\u001b[0m \u001b[0mimg_url\u001b[0m\u001b[1;33m)\u001b[0m \u001b[1;32min\u001b[0m \u001b[0menumerate\u001b[0m\u001b[1;33m(\u001b[0m\u001b[0mzip\u001b[0m\u001b[1;33m(\u001b[0m\u001b[0mquotes\u001b[0m\u001b[1;33m,\u001b[0m \u001b[0mapi\u001b[0m\u001b[1;33m.\u001b[0m\u001b[0mimg_urls\u001b[0m\u001b[1;33m)\u001b[0m\u001b[1;33m)\u001b[0m\u001b[1;33m:\u001b[0m\u001b[1;33m\u001b[0m\u001b[1;33m\u001b[0m\u001b[0m\n\u001b[0m\u001b[0;32m     25\u001b[0m         \u001b[0mprint\u001b[0m\u001b[1;33m(\u001b[0m\u001b[0mt\u001b[0m\u001b[1;33m,\u001b[0m \u001b[0mi\u001b[0m\u001b[1;33m)\u001b[0m\u001b[1;33m\u001b[0m\u001b[1;33m\u001b[0m\u001b[0m\n\u001b[0;32m     26\u001b[0m         \u001b[1;32mif\u001b[0m \u001b[1;32mnot\u001b[0m \u001b[0mq\u001b[0m \u001b[1;32mor\u001b[0m \u001b[1;32mnot\u001b[0m \u001b[0mimg_url\u001b[0m\u001b[1;33m:\u001b[0m\u001b[1;33m\u001b[0m\u001b[1;33m\u001b[0m\u001b[0m\n",
      "\u001b[1;31mTypeError\u001b[0m: 'NoneType' object is not iterable"
     ]
    }
   ],
   "source": [
    "import requests\n",
    "from PIL import Image\n",
    "from quote import quote\n",
    "from src.image.crop import crop\n",
    "from src.image.draw import resize_img\n",
    "from src.image.extract import ApiImgExtractor\n",
    "from src.image.merge import merge_text_to_image\n",
    "from src.paths import LOCAL_PROCESSED_DATA_PATH\n",
    "\n",
    "themes = ['Neil Armstrong', 'neil degrasse'\n",
    "          'michael jordan', \n",
    "          'Nasa', 'God', \n",
    "           'Einstein', 'Travel', 'Motivation', 'Religion'\n",
    "         ]\n",
    "format_ = \"PNG\"\n",
    "n = 3 # amount of quotes per theme\n",
    "for t in themes:\n",
    "    api = ApiImgExtractor('unsplash')\n",
    "    quotes = quote(t, limit=n)\n",
    "    api.query(_search_params={\n",
    "        'q': t,\n",
    "        'imgType': 'photos'\n",
    "    })\n",
    "    if not quotes:\n",
    "        continue\n",
    "    for i, (q, img_url) in enumerate(zip(quotes, api.img_urls)):\n",
    "        print(t, i)\n",
    "        if not q or not img_url:\n",
    "            break\n",
    "        filepath = LOCAL_PROCESSED_DATA_PATH / f\"{t}_{i}.{format_}\"\n",
    "        img = crop(img_url, export=False, output_size=(1080,1080))\n",
    "        txt = q['quote']\n",
    "        \n",
    "        tb_txt = None\n",
    "        if (q['author'] != '') and (len(q['author'].split(' ')) > 1):\n",
    "            tb_txt = q['author']\n",
    "        elif q['book'] != '':\n",
    "            tb_txt = \"Book: \" + q['book']\n",
    "        \n",
    "        post = merge_text_to_image(img, txt, bottom_right_txt=tb_txt,\n",
    "                                   top_right_txt=\"@your.success.pills\",\n",
    "                                   txt_aspect_ratio=.30, txt_brightness=3)\n",
    "        post.save(filepath, format_, quality=90)\n"
   ]
  },
  {
   "cell_type": "code",
   "execution_count": 4,
   "id": "dense-modification",
   "metadata": {},
   "outputs": [],
   "source": [
    "quotes"
   ]
  },
  {
   "cell_type": "code",
   "execution_count": null,
   "id": "inappropriate-milton",
   "metadata": {},
   "outputs": [],
   "source": []
  }
 ],
 "metadata": {
  "kernelspec": {
   "display_name": "Python 3",
   "language": "python",
   "name": "python3"
  },
  "language_info": {
   "codemirror_mode": {
    "name": "ipython",
    "version": 3
   },
   "file_extension": ".py",
   "mimetype": "text/x-python",
   "name": "python",
   "nbconvert_exporter": "python",
   "pygments_lexer": "ipython3",
   "version": "3.9.4"
  }
 },
 "nbformat": 4,
 "nbformat_minor": 5
}
