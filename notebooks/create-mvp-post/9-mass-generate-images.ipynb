{
 "cells": [
  {
   "cell_type": "code",
   "execution_count": 1,
   "id": "lesser-mambo",
   "metadata": {},
   "outputs": [
    {
     "name": "stderr",
     "output_type": "stream",
     "text": [
      "C:\\Users\\muril\\.virtualenvs\\insta-post-generator-N5ODM5nx\\lib\\site-packages\\gensim\\similarities\\__init__.py:15: UserWarning: The gensim.similarities.levenshtein submodule is disabled, because the optional Levenshtein package <https://pypi.org/project/python-Levenshtein/> is unavailable. Install Levenhstein (e.g. `pip install python-Levenshtein`) to suppress this warning.\n",
      "  warnings.warn(msg)\n",
      "[nltk_data] Downloading package stopwords to\n",
      "[nltk_data]     C:\\Users\\muril\\AppData\\Roaming\\nltk_data...\n",
      "[nltk_data]   Package stopwords is already up-to-date!\n",
      "[nltk_data] Downloading package wordnet to\n",
      "[nltk_data]     C:\\Users\\muril\\AppData\\Roaming\\nltk_data...\n",
      "[nltk_data]   Package wordnet is already up-to-date!\n"
     ]
    },
    {
     "data": {
      "text/plain": [
       "[{'id': 'summer_0',\n",
       "  'theme': 'summer',\n",
       "  'filepath': WindowsPath('c:/users/muril/documents/github/insta-post-generator/data/processed/summer_0.PNG'),\n",
       "  'filepath_txt': WindowsPath('c:/users/muril/documents/github/insta-post-generator/data/processed/summer_0.txt')},\n",
       " {'id': 'summer_1',\n",
       "  'theme': 'summer',\n",
       "  'filepath': WindowsPath('c:/users/muril/documents/github/insta-post-generator/data/processed/summer_1.PNG'),\n",
       "  'filepath_txt': WindowsPath('c:/users/muril/documents/github/insta-post-generator/data/processed/summer_1.txt')},\n",
       " {'id': 'summer_2',\n",
       "  'theme': 'summer',\n",
       "  'filepath': WindowsPath('c:/users/muril/documents/github/insta-post-generator/data/processed/summer_2.PNG'),\n",
       "  'filepath_txt': WindowsPath('c:/users/muril/documents/github/insta-post-generator/data/processed/summer_2.txt')},\n",
       " {'id': 'winter_0',\n",
       "  'theme': 'winter',\n",
       "  'filepath': WindowsPath('c:/users/muril/documents/github/insta-post-generator/data/processed/winter_0.PNG'),\n",
       "  'filepath_txt': WindowsPath('c:/users/muril/documents/github/insta-post-generator/data/processed/winter_0.txt')},\n",
       " {'id': 'winter_1',\n",
       "  'theme': 'winter',\n",
       "  'filepath': WindowsPath('c:/users/muril/documents/github/insta-post-generator/data/processed/winter_1.PNG'),\n",
       "  'filepath_txt': WindowsPath('c:/users/muril/documents/github/insta-post-generator/data/processed/winter_1.txt')},\n",
       " {'id': 'winter_2',\n",
       "  'theme': 'winter',\n",
       "  'filepath': WindowsPath('c:/users/muril/documents/github/insta-post-generator/data/processed/winter_2.PNG'),\n",
       "  'filepath_txt': WindowsPath('c:/users/muril/documents/github/insta-post-generator/data/processed/winter_2.txt')}]"
      ]
     },
     "execution_count": 1,
     "metadata": {},
     "output_type": "execute_result"
    }
   ],
   "source": [
    "from src.content.produce import produce_content\n",
    "\n",
    "themes = [ 'summer' , 'winter' ]\n",
    "profile_name= \"@the.wisdom.drops\"\n",
    "txt_aspect_ratio='WIDE'\n",
    "n = 3 \n",
    "produce_content(themes, posts_per_theme=n, profile_name=profile_name, txt_aspect_ratio=txt_aspect_ratio)"
   ]
  }
 ],
 "metadata": {
  "kernelspec": {
   "display_name": "Python 3",
   "language": "python",
   "name": "python3"
  },
  "language_info": {
   "codemirror_mode": {
    "name": "ipython",
    "version": 3
   },
   "file_extension": ".py",
   "mimetype": "text/x-python",
   "name": "python",
   "nbconvert_exporter": "python",
   "pygments_lexer": "ipython3",
   "version": "3.9.4"
  }
 },
 "nbformat": 4,
 "nbformat_minor": 5
}
