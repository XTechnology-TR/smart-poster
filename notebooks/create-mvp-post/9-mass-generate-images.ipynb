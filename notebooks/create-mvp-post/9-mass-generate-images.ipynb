{
 "cells": [
  {
   "cell_type": "code",
   "execution_count": 1,
   "id": "alert-commonwealth",
   "metadata": {},
   "outputs": [
    {
     "name": "stderr",
     "output_type": "stream",
     "text": [
      "C:\\Users\\muril\\.virtualenvs\\insta-post-generator-N5ODM5nx\\lib\\site-packages\\gensim\\similarities\\__init__.py:15: UserWarning: The gensim.similarities.levenshtein submodule is disabled, because the optional Levenshtein package <https://pypi.org/project/python-Levenshtein/> is unavailable. Install Levenhstein (e.g. `pip install python-Levenshtein`) to suppress this warning.\n",
      "  warnings.warn(msg)\n",
      "[nltk_data] Downloading package stopwords to\n",
      "[nltk_data]     C:\\Users\\muril\\AppData\\Roaming\\nltk_data...\n",
      "[nltk_data]   Package stopwords is already up-to-date!\n",
      "[nltk_data] Downloading package wordnet to\n",
      "[nltk_data]     C:\\Users\\muril\\AppData\\Roaming\\nltk_data...\n",
      "[nltk_data]   Package wordnet is already up-to-date!\n"
     ]
    },
    {
     "data": {
      "text/plain": [
       "[{'id': 'dog_0',\n",
       "  'theme': 'dog',\n",
       "  'filepath': WindowsPath('c:/users/muril/documents/github/insta-post-generator/data/processed/dog_0.PNG'),\n",
       "  'filepath_txt': WindowsPath('c:/users/muril/documents/github/insta-post-generator/data/processed/dog_0.txt')},\n",
       " {'id': 'dog_1',\n",
       "  'theme': 'dog',\n",
       "  'filepath': WindowsPath('c:/users/muril/documents/github/insta-post-generator/data/processed/dog_1.PNG'),\n",
       "  'filepath_txt': WindowsPath('c:/users/muril/documents/github/insta-post-generator/data/processed/dog_1.txt')},\n",
       " {'id': 'dog_2',\n",
       "  'theme': 'dog',\n",
       "  'filepath': WindowsPath('c:/users/muril/documents/github/insta-post-generator/data/processed/dog_2.PNG'),\n",
       "  'filepath_txt': WindowsPath('c:/users/muril/documents/github/insta-post-generator/data/processed/dog_2.txt')},\n",
       " {'id': 'cats_0',\n",
       "  'theme': 'cats',\n",
       "  'filepath': WindowsPath('c:/users/muril/documents/github/insta-post-generator/data/processed/cats_0.PNG'),\n",
       "  'filepath_txt': WindowsPath('c:/users/muril/documents/github/insta-post-generator/data/processed/cats_0.txt')},\n",
       " {'id': 'cats_1',\n",
       "  'theme': 'cats',\n",
       "  'filepath': WindowsPath('c:/users/muril/documents/github/insta-post-generator/data/processed/cats_1.PNG'),\n",
       "  'filepath_txt': WindowsPath('c:/users/muril/documents/github/insta-post-generator/data/processed/cats_1.txt')},\n",
       " {'id': 'cats_2',\n",
       "  'theme': 'cats',\n",
       "  'filepath': WindowsPath('c:/users/muril/documents/github/insta-post-generator/data/processed/cats_2.PNG'),\n",
       "  'filepath_txt': WindowsPath('c:/users/muril/documents/github/insta-post-generator/data/processed/cats_2.txt')},\n",
       " {'id': 'rain_0',\n",
       "  'theme': 'rain',\n",
       "  'filepath': WindowsPath('c:/users/muril/documents/github/insta-post-generator/data/processed/rain_0.PNG'),\n",
       "  'filepath_txt': WindowsPath('c:/users/muril/documents/github/insta-post-generator/data/processed/rain_0.txt')},\n",
       " {'id': 'rain_1',\n",
       "  'theme': 'rain',\n",
       "  'filepath': WindowsPath('c:/users/muril/documents/github/insta-post-generator/data/processed/rain_1.PNG'),\n",
       "  'filepath_txt': WindowsPath('c:/users/muril/documents/github/insta-post-generator/data/processed/rain_1.txt')},\n",
       " {'id': 'rain_2',\n",
       "  'theme': 'rain',\n",
       "  'filepath': WindowsPath('c:/users/muril/documents/github/insta-post-generator/data/processed/rain_2.PNG'),\n",
       "  'filepath_txt': WindowsPath('c:/users/muril/documents/github/insta-post-generator/data/processed/rain_2.txt')},\n",
       " {'id': 'lions_0',\n",
       "  'theme': 'lions',\n",
       "  'filepath': WindowsPath('c:/users/muril/documents/github/insta-post-generator/data/processed/lions_0.PNG'),\n",
       "  'filepath_txt': WindowsPath('c:/users/muril/documents/github/insta-post-generator/data/processed/lions_0.txt')},\n",
       " {'id': 'lions_1',\n",
       "  'theme': 'lions',\n",
       "  'filepath': WindowsPath('c:/users/muril/documents/github/insta-post-generator/data/processed/lions_1.PNG'),\n",
       "  'filepath_txt': WindowsPath('c:/users/muril/documents/github/insta-post-generator/data/processed/lions_1.txt')},\n",
       " {'id': 'lions_2',\n",
       "  'theme': 'lions',\n",
       "  'filepath': WindowsPath('c:/users/muril/documents/github/insta-post-generator/data/processed/lions_2.PNG'),\n",
       "  'filepath_txt': WindowsPath('c:/users/muril/documents/github/insta-post-generator/data/processed/lions_2.txt')},\n",
       " {'id': 'safari_0',\n",
       "  'theme': 'safari',\n",
       "  'filepath': WindowsPath('c:/users/muril/documents/github/insta-post-generator/data/processed/safari_0.PNG'),\n",
       "  'filepath_txt': WindowsPath('c:/users/muril/documents/github/insta-post-generator/data/processed/safari_0.txt')},\n",
       " {'id': 'safari_1',\n",
       "  'theme': 'safari',\n",
       "  'filepath': WindowsPath('c:/users/muril/documents/github/insta-post-generator/data/processed/safari_1.PNG'),\n",
       "  'filepath_txt': WindowsPath('c:/users/muril/documents/github/insta-post-generator/data/processed/safari_1.txt')},\n",
       " {'id': 'safari_2',\n",
       "  'theme': 'safari',\n",
       "  'filepath': WindowsPath('c:/users/muril/documents/github/insta-post-generator/data/processed/safari_2.PNG'),\n",
       "  'filepath_txt': WindowsPath('c:/users/muril/documents/github/insta-post-generator/data/processed/safari_2.txt')}]"
      ]
     },
     "execution_count": 1,
     "metadata": {},
     "output_type": "execute_result"
    }
   ],
   "source": [
    "from src.content.produce import produce_content\n",
    "\n",
    "themes = [ 'dog' , 'cats', 'rain', 'lions', 'safari']\n",
    "profile_name= \"@the.wisdom.drops\"\n",
    "txt_aspect_ratio='WIDE'\n",
    "n = 3 \n",
    "produce_content(themes, posts_per_theme=n, profile_name=profile_name, txt_aspect_ratio=txt_aspect_ratio)"
   ]
  }
 ],
 "metadata": {
  "kernelspec": {
   "display_name": "Python 3",
   "language": "python",
   "name": "python3"
  },
  "language_info": {
   "codemirror_mode": {
    "name": "ipython",
    "version": 3
   },
   "file_extension": ".py",
   "mimetype": "text/x-python",
   "name": "python",
   "nbconvert_exporter": "python",
   "pygments_lexer": "ipython3",
   "version": "3.9.4"
  }
 },
 "nbformat": 4,
 "nbformat_minor": 5
}
