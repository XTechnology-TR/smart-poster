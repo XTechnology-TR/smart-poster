{
 "cells": [
  {
   "cell_type": "code",
   "execution_count": null,
   "id": "wired-relationship",
   "metadata": {},
   "outputs": [],
   "source": [
    "import requests\n",
    "from PIL import Image\n",
    "from quote import quote\n",
    "from src.image.crop import crop\n",
    "from src.image.draw import resize_img\n",
    "from src.image.extract import ApiImgExtractor\n",
    "from src.image.merge import merge_text_to_image\n",
    "from src.paths import LOCAL_PROCESSED_DATA_PATH\n",
    "\n",
    "themes = [ 'Travel', 'Freedom', 'Hope'\n",
    "         ]\n",
    "format_ = \"PNG\"\n",
    "n = 10 # amount of quotes per theme\n",
    "for t in themes:\n",
    "    api = ApiImgExtractor('unsplash')\n",
    "    quotes = quote(t, limit=n)\n",
    "    api.query(_search_params={\n",
    "        'q': t,\n",
    "        'imgType': 'photos'\n",
    "    })\n",
    "    if not quotes:\n",
    "        continue\n",
    "    for i, (q, img_url) in enumerate(zip(quotes, api.img_urls)):\n",
    "        print(t, i)\n",
    "        if not q or not img_url:\n",
    "            break\n",
    "        filepath = LOCAL_PROCESSED_DATA_PATH / f\"{t}_{i}.{format_}\"\n",
    "        img = crop(img_url, export=False, output_size=(1080,1080))\n",
    "        txt = q['quote']\n",
    "        \n",
    "        tb_txt = 'Unknown Author'\n",
    "        if (q['author'] != '') and (len(q['author'].split(' ')) > 1):\n",
    "            tb_txt = q['author']\n",
    "        elif q['book'] != '':\n",
    "            tb_txt = \"Book: \" + q['book']\n",
    "            \n",
    "        txt = txt.replace('.', '. ').replace('  ', ' ')\n",
    "        \n",
    "        post = merge_text_to_image(img, txt, bottom_right_txt=tb_txt,\n",
    "                                   top_right_txt=\"@your.success.pills\",\n",
    "                                   txt_aspect_ratio=.30, txt_brightness=3)\n",
    "        post.save(filepath, format_, quality=90)\n"
   ]
  }
 ],
 "metadata": {
  "kernelspec": {
   "display_name": "Python 3",
   "language": "python",
   "name": "python3"
  },
  "language_info": {
   "codemirror_mode": {
    "name": "ipython",
    "version": 3
   },
   "file_extension": ".py",
   "mimetype": "text/x-python",
   "name": "python",
   "nbconvert_exporter": "python",
   "pygments_lexer": "ipython3",
   "version": "3.9.4"
  }
 },
 "nbformat": 4,
 "nbformat_minor": 5
}
