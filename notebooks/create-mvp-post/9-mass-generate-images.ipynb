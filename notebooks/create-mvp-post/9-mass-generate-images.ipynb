{
 "cells": [
  {
   "cell_type": "code",
   "execution_count": 1,
   "id": "supported-vertical",
   "metadata": {},
   "outputs": [],
   "source": [
    "import requests\n",
    "from src.image.crop import crop\n",
    "from PIL import Image\n",
    "from src.image.draw import resize_img\n",
    "from src.image.merge import merge_text_to_image\n",
    "from src.paths import LOCAL_PROCESSED_DATA_PATH\n",
    "\n",
    "from PIL import Image\n",
    "import requests\n",
    "\n",
    "from quote import quote\n",
    "\n",
    "from src.image.extract import ApiImgExtractor\n"
   ]
  },
  {
   "cell_type": "code",
   "execution_count": null,
   "id": "powered-adjustment",
   "metadata": {},
   "outputs": [],
   "source": [
    "themes = ['Einstein', 'Elon Musk', 'Motivation', 'Self Development']\n",
    "format_ = \"PNG\"\n",
    "n = 10 # amount of quotes per theme\n",
    "for t in themes:\n",
    "    api = ApiImgExtractor('unsplash')\n",
    "    quotes = quote(t, limit=n)\n",
    "    api.query(_search_params={\n",
    "        'q': t,\n",
    "        'imgType': 'photos'\n",
    "    })\n",
    "    for i, (q, img_url) in enumerate(zip(quotes, api.img_urls)):\n",
    "        if not q or not img_url:\n",
    "            break\n",
    "        filepath = LOCAL_PROCESSED_DATA_PATH / f\"{t}_{i}.{format_}\"\n",
    "        img = crop(img_url, export=False, output_size=(1080,1080))\n",
    "        txt = q['quote']\n",
    "        post = merge_text_to_image(img, txt)\n",
    "        post.save(filepath, format_, quality=90)\n"
   ]
  }
 ],
 "metadata": {
  "kernelspec": {
   "display_name": "Python 3",
   "language": "python",
   "name": "python3"
  },
  "language_info": {
   "codemirror_mode": {
    "name": "ipython",
    "version": 3
   },
   "file_extension": ".py",
   "mimetype": "text/x-python",
   "name": "python",
   "nbconvert_exporter": "python",
   "pygments_lexer": "ipython3",
   "version": "3.9.4"
  }
 },
 "nbformat": 4,
 "nbformat_minor": 5
}
