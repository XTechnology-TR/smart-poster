{
 "cells": [
  {
   "cell_type": "code",
   "execution_count": 1,
   "id": "surgical-profile",
   "metadata": {},
   "outputs": [],
   "source": [
    "import requests\n",
    "from src.image.crop import crop\n",
    "from PIL import Image\n",
    "from src.image.draw import resize_img\n",
    "from src.image.merge import merge_text_to_image\n",
    "from src.paths import LOCAL_PROCESSED_DATA_PATH\n",
    "\n",
    "from PIL import Image\n",
    "import requests\n",
    "\n",
    "from quote import quote\n",
    "\n",
    "from src.image.extract import ApiImgExtractor\n"
   ]
  },
  {
   "cell_type": "code",
   "execution_count": null,
   "id": "defensive-carpet",
   "metadata": {},
   "outputs": [
    {
     "name": "stdout",
     "output_type": "stream",
     "text": [
      "God 0\n",
      "txt      : Yesterday is history, tomorrow is a mystery, today is a gift of God, which is why we call it the present.\n",
      "txt2draw : Yesterday is history, tomorrow is a mystery, today is a gift of God, which is why...\n",
      "caption  : ...we call it the present.\n",
      "==================================================\n",
      "                                                  \n",
      "God 1\n",
      "txt      : You should date a girl who reads.Date a girl who reads. Date a girl who spends her money on books instead of clothes, who has problems with closet space because she has too many books. Date a girl who has a list of books she wants to read, who has had a library card since she was twelve.Find a girl who reads. You’ll know that she does because she will always have an unread book in her bag. She’s the one lovingly looking over the shelves in the bookstore, the one who quietly cries out when she has found the book she wants. You see that weird chick sniffing the pages of an old book in a secondhand book shop? That’s the reader. They can never resist smelling the pages, especially when they are yellow and worn.She’s the girl reading while waiting in that coffee shop down the street. If you take a peek at her mug, the non-dairy creamer is floating on top because she’s kind of engrossed already. Lost in a world of the author’s making. Sit down. She might give you a glare, as most girls who read do not like to be interrupted. Ask her if she likes the book.Buy her another cup of coffee.Let her know what you really think of Murakami. See if she got through the first chapter of Fellowship. Understand that if she says she understood James Joyce’s Ulysses she’s just saying that to sound intelligent. Ask her if she loves Alice or she would like to be Alice.It’s easy to date a girl who reads. Give her books for her birthday, for Christmas, for anniversaries. Give her the gift of words, in poetry and in song. Give her Neruda, Pound, Sexton, Cummings. Let her know that you understand that words are love. Understand that she knows the difference between books and reality but by god, she’s going to try to make her life a little like her favorite book. It will never be your fault if she does.She has to give it a shot somehow.Lie to her. If she understands syntax, she will understand your need to lie. Behind words are other things: motivation, value, nuance, dialogue. It will not be the end of the world.Fail her. Because a girl who reads knows that failure always leads up to the climax. Because girls who read understand that all things must come to end, but that you can always write a sequel. That you can begin again and again and still be the hero. That life is meant to have a villain or two.Why be frightened of everything that you are not? Girls who read understand that people, like characters, develop. Except in the Twilight series.If you find a girl who reads, keep her close. When you find her up at 2 AM clutching a book to her chest and weeping, make her a cup of tea and hold her. You may lose her for a couple of hours but she will always come back to you. She’ll talk as if the characters in the book are real, because for a while, they always are.You will propose on a hot air balloon. Or during a rock concert. Or very casually next time she’s sick. Over Skype.You will smile so hard you will wonder why your heart hasn’t burst and bled out all over your chest yet. You will write the story of your lives, have kids with strange names and even stranger tastes. She will introduce your children to the Cat in the Hat and Aslan, maybe in the same day. You will walk the winters of your old age together and she will recite Keats under her breath while you shake the snow off your boots.Date a girl who reads because you deserve it. You deserve a girl who can give you the most colorful life imaginable. If you can only give her monotony, and stale hours and half-baked proposals, then you’re better off alone. If you want the world and the worlds beyond it, date a girl who reads.Or better yet, date a girl who writes.\n",
      "txt2draw : You should date a girl who reads.Date a girl who reads. Date a girl who spends...\n",
      "caption  : ...her money on books instead of clothes, who has \n",
      "==================================================\n",
      "                                                  \n",
      "God 2\n",
      "txt      : Our deepest fear is not that we are inadequate. Our deepest fear is that we are powerful beyond measure. It is our light, not our darkness that most frightens us. We ask ourselves, 'Who am I to be brilliant, gorgeous, talented, fabulous?' Actually, who are you not to be? You are a child of God. Your playing small does not serve the world. There is nothing enlightened about shrinking so that other people won't feel insecure around you. We are all meant to shine, as children do. We were born to make manifest the glory of God that is within us. It's not just in some of us; it's in everyone. And as we let our own light shine, we unconsciously give other people permission to do the same. As we are liberated from our own fear, our presence automatically liberates others.\n",
      "txt2draw : Our deepest fear is not that we are inadequate. Our deepest fear is that we are...\n",
      "caption  : ...powerful beyond measure. It is our light, not o\n",
      "==================================================\n",
      "                                                  \n",
      "God 3\n",
      "txt      : There are infinite numbers between 0 and 1. There's .1 and .12 and .112 and an infinite collection of others. Of course, there is a bigger infinite set of numbers between 0 and 2, or between 0 and a million. Some infinities are bigger than other infinities. A writer we used to like taught us that. There are days, many of them, when I resent the size of my unbounded set. I want more numbers than I'm likely to get, and God, I want more numbers for Augustus Waters than he got. But, Gus, my love, I cannot tell you how thankful I am for our little infinity. I wouldn't trade it for the world. You gave me a forever within the numbered days, and I'm grateful.\n",
      "txt2draw : There are infinite numbers between 0 and 1. There's .1 and .12 and .112 and an...\n",
      "caption  : ...infinite collection of others. Of course, there\n",
      "==================================================\n",
      "                                                  \n",
      "God 4\n",
      "txt      : If we find ourselves with a desire that nothing in this world can satisfy, the most probable explanation is that we were made for another world.\n",
      "txt2draw : If we find ourselves with a desire that nothing in this world can satisfy, the most...\n",
      "caption  : ...probable explanation is that we were made for a\n",
      "==================================================\n",
      "                                                  \n",
      "God 5\n",
      "txt      : All God does is watch us and kill us when we get boring. We must never, ever be boring.\n",
      "txt2draw : All God does is watch us and kill us when we get boring. We must never,...\n",
      "caption  : ...ever be boring.\n",
      "==================================================\n",
      "                                                  \n",
      "God 6\n",
      "txt      : The Christian does not think God will love us because we are good, but that God will make us good because He loves us.\n",
      "txt2draw : The Christian does not think God will love us because we are good, but that God...\n",
      "caption  : ...will make us good because He loves us.\n",
      "==================================================\n",
      "                                                  \n",
      "God 7\n",
      "txt      : I can believe things that are true and things that aren't true and I can believe things where nobody knows if they're true or not. I can believe in Santa Claus and the Easter Bunny and the Beatles and Marilyn Monroe and Elvis and Mister Ed. Listen - I believe that people are perfectable, that knowledge is infinite, that the world is run by secret banking cartels and is visited by aliens on a regular basis, nice ones that look like wrinkled lemurs and bad ones who mutilate cattle and want our water and our women. I believe that the future sucks and I believe that the future rocks and I believe that one day White Buffalo Woman is going to come back and kick everyone's ass. I believe that all men are just overgrown boys with deep problems communicating and that the decline in good sex in America is coincident with the decline in drive-in movie theaters from state to state. I believe that all politicians are unprincipled crooks and I still believe that they are better than the alternative. I believe that California is going to sink into the sea when the big one comes, while Florida is going to dissolve into madness and alligators and toxic waste. I believe that antibacterial soap is destroying our resistance to dirt and disease so that one day we'll all be wiped out by the common cold like martians in War of the Worlds. I believe that the greatest poets of the last century were Edith Sitwell and Don Marquis, that jade is dried dragon sperm, and that thousands of years ago in a former life I was a one-armed Siberian shaman. I believe that mankind's destiny lies in the stars. I believe that candy really did taste better when I was a kid, that it's aerodynamically impossible for a bumble bee to fly, that light is a wave and a particle, that there's a cat in a box somewhere who's alive and dead at the same time (although if they don't ever open the box to feed it it'll eventually just be two different kinds of dead), and that there are stars in the universe billions of years older than the universe itself. I believe in a personal god who cares about me and worries and oversees everything I do. I believe in an impersonal god who set the universe in motion and went off to hang with her girlfriends and doesn't even know that I'm alive. I believe in an empty and godless universe of causal chaos, background noise, and sheer blind luck. I believe that anyone who says sex is overrated just hasn't done it properly. I believe that anyone who claims to know what's going on will lie about the little things too. I believe in absolute honesty and sensible social lies. I believe in a woman's right to choose, a baby's right to live, that while all human life is sacred there's nothing wrong with the death penalty if you can trust the legal system implicitly, and that no one but a moron would ever trust the legal system. I believe that life is a game, that life is a cruel joke, and that life is what happens when you're alive and that you might as well lie back and enjoy it.\n",
      "txt2draw : I can believe things that are true and things that aren't true and I can believe...\n",
      "caption  : ...things where nobody knows if they're true or no\n",
      "==================================================\n",
      "                                                  \n",
      "God 8\n",
      "txt      : Chance is perhaps the pseudonym of God when he does not want to sign.\n",
      "txt2draw : Chance is perhaps the pseudonym of God when he does not want to sign.\n",
      "caption  : \n",
      "==================================================\n",
      "                                                  \n",
      "God 9\n",
      "txt      : There will come a time when all of us are dead. All of us. There will come a time when there are no human beings remaining to remember that anyone ever existed or that our species ever did anything. There will be no one left to remember Aristotle or Cleopatra, let alone you. Everything that we did and built and wrote and thought and discovered will be forgotten and all of this will have been for naught. Maybe that time is coming soon and maybe it is millions of years away, but even if we survive the collapse of our sun, we will not survive forever. There was time before organisms experienced consciousness, and there will be time after. And if the inevitability of human oblivion worries you, I encourage you to ignore it. God knows that’s what everyone else does.\n",
      "txt2draw : There will come a time when all of us are dead. All of us. There will...\n",
      "caption  : ...come a time when there are no human beings rema\n",
      "==================================================\n",
      "                                                  \n",
      "Einstein 0\n",
      "txt      : Two things are infinite: the universe and human stupidity; and I'm not sure about the universe.\n",
      "txt2draw : Two things are infinite: the universe and human stupidity; and I'm not sure about the universe.\n",
      "caption  : \n",
      "==================================================\n",
      "                                                  \n",
      "Einstein 1\n",
      "txt      : Insanity is doing the same thing, over and over again, but expecting different results.\n",
      "txt2draw : Insanity is doing the same thing, over and over again, but expecting different results.\n",
      "caption  : \n",
      "==================================================\n",
      "                                                  \n",
      "Einstein 2\n",
      "txt      : There are only two ways to live your life. One is as though nothing is a miracle. The other is as though everything is a miracle.\n",
      "txt2draw : There are only two ways to live your life. One is as though nothing is a...\n",
      "caption  : ...miracle. The other is as though everything is a\n",
      "==================================================\n",
      "                                                  \n",
      "Einstein 3\n",
      "txt      : I am enough of an artist to draw freely upon my imagination. Imagination is more important than knowledge. Knowledge is limited. Imagination encircles the world.\n",
      "txt2draw : I am enough of an artist to draw freely upon my imagination. Imagination is more important...\n",
      "caption  : ...than knowledge. Knowledge is limited. Imaginati\n",
      "==================================================\n",
      "                                                  \n",
      "Einstein 4\n",
      "txt      : If you can't explain it to a six year old, you don't understand it yourself.\n",
      "txt2draw : If you can't explain it to a six year old, you don't understand it yourself.\n",
      "caption  : \n",
      "==================================================\n",
      "                                                  \n",
      "Einstein 5\n",
      "txt      : If you want your children to be intelligent, read them fairy tales. If you want them to be more intelligent, read them more fairy tales.\n",
      "txt2draw : If you want your children to be intelligent, read them fairy tales. If you want them...\n",
      "caption  : ...to be more intelligent, read them more fairy ta\n",
      "==================================================\n",
      "                                                  \n",
      "Einstein 6\n",
      "txt      : Logic will get you from A to Z; imagination will get you everywhere.\n",
      "txt2draw : Logic will get you from A to Z; imagination will get you everywhere.\n",
      "caption  : \n",
      "==================================================\n",
      "                                                  \n",
      "Einstein 7\n",
      "txt      : Life is like riding a bicycle. To keep your balance, you must keep moving.\n",
      "txt2draw : Life is like riding a bicycle. To keep your balance, you must keep moving.\n",
      "caption  : \n",
      "==================================================\n",
      "                                                  \n",
      "Einstein 8\n",
      "txt      : The difference between genius and stupidity is: genius has its limits.\n",
      "txt2draw : The difference between genius and stupidity is: genius has its limits.\n",
      "caption  : \n",
      "==================================================\n",
      "                                                  \n",
      "Einstein 9\n",
      "txt      : Anyone who has never made a mistake has never tried anything new.\n",
      "txt2draw : Anyone who has never made a mistake has never tried anything new.\n",
      "caption  : \n",
      "==================================================\n",
      "                                                  \n",
      "Travel 0\n",
      "txt      : Not all those who wander are lost.\n",
      "txt2draw : Not all those who wander are lost.\n",
      "caption  : \n",
      "==================================================\n",
      "                                                  \n",
      "Travel 1\n",
      "txt      : A lie can travel half way around the world while the truth is putting on its shoes.\n",
      "txt2draw : A lie can travel half way around the world while the truth is putting on its...\n",
      "caption  : ...shoes.\n",
      "==================================================\n",
      "                                                  \n",
      "Travel 2\n",
      "txt      : The Road Not TakenTwo roads diverged in a yellow wood,And sorry I could not travel both And be one traveler, long I stood And looked down one as far as I could To where it bent in the undergrowth; Then took the other, as just as fair, And having perhaps the better claim, Because it was grassy and wanted wear; Though as for that the passing there Had worn them really about the same, And both that morning equally lay In leaves no step had trodden black. Oh, I kept the first for another day! Yet knowing how way leads on to way, I doubted if I should ever come back. I shall be telling this with a sigh Somewhere ages and ages hence: Two roads diverged in a wood, and I— I took the one less traveled by, And that has made all the difference.\n",
      "txt2draw : The Road Not TakenTwo roads diverged in a yellow wood,And sorry I could not travel both...\n",
      "caption  : ...And be one traveler, long I stood And looked do\n",
      "==================================================\n",
      "                                                  \n",
      "Travel 3\n",
      "txt      : The world is a book and those who do not travel read only one page.\n",
      "txt2draw : The world is a book and those who do not travel read only one page.\n",
      "caption  : \n",
      "==================================================\n",
      "                                                  \n",
      "Travel 4\n",
      "txt      : That's the thing about books. They let you travel without moving your feet.\n",
      "txt2draw : That's the thing about books. They let you travel without moving your feet.\n",
      "caption  : \n",
      "==================================================\n",
      "                                                  \n",
      "Travel 5\n",
      "txt      : I have never listened to anyone who criticized my taste in space travel, sideshows or gorillas. When this occurs, I pack up my dinosaurs and leave the room.\n",
      "txt2draw : I have never listened to anyone who criticized my taste in space travel, sideshows or gorillas....\n",
      "caption  : ...When this occurs, I pack up my dinosaurs and le\n",
      "==================================================\n",
      "                                                  \n",
      "Travel 6\n",
      "txt      : I never travel without my diary. One should always have something sensational to read in the train.\n",
      "txt2draw : I never travel without my diary. One should always have something sensational to read in the...\n",
      "caption  : ...train.\n",
      "==================================================\n",
      "                                                  \n",
      "Travel 7\n",
      "txt      : Why do you go away? So that you can come back. So that you can see the place you came from with new eyes and extra colors. And the people there see you differently, too. Coming back to where you started is not the same as never leaving.\n",
      "txt2draw : Why do you go away? So that you can come back. So that you can see...\n",
      "caption  : ...the place you came from with new eyes and extra\n",
      "==================================================\n",
      "                                                  \n"
     ]
    }
   ],
   "source": [
    "themes = ['God', 'Einstein', 'Travel', 'Motivation', 'Religion']\n",
    "format_ = \"PNG\"\n",
    "n = 10 # amount of quotes per theme\n",
    "for t in themes:\n",
    "    api = ApiImgExtractor('unsplash')\n",
    "    quotes = quote(t, limit=n)\n",
    "    api.query(_search_params={\n",
    "        'q': t,\n",
    "        'imgType': 'photos'\n",
    "    })\n",
    "    for i, (q, img_url) in enumerate(zip(quotes, api.img_urls)):\n",
    "        print(t, i)\n",
    "        if not q or not img_url:\n",
    "            break\n",
    "        filepath = LOCAL_PROCESSED_DATA_PATH / f\"{t}_{i}.{format_}\"\n",
    "        img = crop(img_url, export=False, output_size=(1080,1080))\n",
    "        txt = q['quote']\n",
    "        post = merge_text_to_image(img, txt, txt_aspect_ratio=.6, txt_brightness=3)\n",
    "        post.save(filepath, format_, quality=90)\n"
   ]
  },
  {
   "cell_type": "code",
   "execution_count": null,
   "id": "individual-squad",
   "metadata": {},
   "outputs": [],
   "source": []
  },
  {
   "cell_type": "code",
   "execution_count": 2,
   "id": "express-driving",
   "metadata": {},
   "outputs": [],
   "source": [
    "import textwrap\n",
    "from PIL import Image, ImageDraw, ImageFont"
   ]
  },
  {
   "cell_type": "code",
   "execution_count": 1,
   "id": "mobile-reynolds",
   "metadata": {},
   "outputs": [],
   "source": [
    "text = \"Lorem ipsum dolor sit amet, consectetur adipisicing elit, sed do eiusmod tempor incididunt ut labore et dolore magna aliqua. Ut enim ad minim veniam, quis nostrud exercitation ullamco laboris nisi ut aliquip ex ea commodo consequat. Duis aute irure dolor in reprehenderit in voluptate velit esse cillum dolore eu fugiat nulla pariatur. Excepteur sint occaecat cupidatat non proident, sunt in culpa qui officia deserunt mollit anim id est laborum.\"\n"
   ]
  },
  {
   "cell_type": "code",
   "execution_count": 2,
   "id": "referenced-stone",
   "metadata": {},
   "outputs": [],
   "source": [
    "text = \"Lorem ipsum dolor\""
   ]
  },
  {
   "cell_type": "code",
   "execution_count": 6,
   "id": "irish-timer",
   "metadata": {},
   "outputs": [
    {
     "data": {
      "text/plain": [
       "['Lorem', 'ipsum', 'dolor']"
      ]
     },
     "execution_count": 6,
     "metadata": {},
     "output_type": "execute_result"
    }
   ],
   "source": [
    "text.split(' ')[:3]"
   ]
  },
  {
   "cell_type": "code",
   "execution_count": 56,
   "id": "dense-childhood",
   "metadata": {},
   "outputs": [
    {
     "data": {
      "text/plain": [
       "{10, 20, 30, 40, 50}"
      ]
     },
     "execution_count": 56,
     "metadata": {},
     "output_type": "execute_result"
    }
   ],
   "source": [
    "{x for x in range(10, 60, 10)}"
   ]
  },
  {
   "cell_type": "code",
   "execution_count": null,
   "id": "precious-coverage",
   "metadata": {},
   "outputs": [],
   "source": [
    "textwrap."
   ]
  },
  {
   "cell_type": "code",
   "execution_count": 6,
   "id": "placed-steering",
   "metadata": {},
   "outputs": [
    {
     "data": {
      "text/plain": [
       "['Lorem ipsum dolor sit amet, consectetur adipisicing elit, sed do',\n",
       " 'eiusmod tempor incididunt ut labore et dolore magna aliqua. Ut enim ad',\n",
       " 'minim veniam, quis nostrud exercitation ullamco laboris nisi ut',\n",
       " 'aliquip ex ea commodo consequat. Duis aute irure dolor in',\n",
       " 'reprehenderit in voluptate velit esse cillum dolore eu fugiat nulla',\n",
       " 'pariatur. Excepteur sint occaecat cupidatat non proident, sunt in',\n",
       " 'culpa qui officia deserunt mollit anim id est laborum.']"
      ]
     },
     "execution_count": 6,
     "metadata": {},
     "output_type": "execute_result"
    }
   ],
   "source": [
    "textwrap.wrap(text, width=70)"
   ]
  },
  {
   "cell_type": "code",
   "execution_count": 9,
   "id": "valuable-cocktail",
   "metadata": {},
   "outputs": [
    {
     "data": {
      "text/plain": [
       "'Lorem ipsum dolor sit amet, consectetur adipisicing elit,\\nsed do eiusmod tempor incididunt ut labore et dolore magna\\naliqua. Ut enim ad minim veniam, quis nostrud exercitation\\nullamco laboris nisi ut aliquip ex ea commodo consequat.\\nDuis aute irure dolor in reprehenderit in voluptate velit\\nesse cillum dolore eu fugiat nulla pariatur. Excepteur sint\\noccaecat cupidatat non proident, sunt in culpa qui officia\\ndeserunt mollit anim id est laborum.'"
      ]
     },
     "execution_count": 9,
     "metadata": {},
     "output_type": "execute_result"
    }
   ],
   "source": [
    "textwrap.fill(text, width=60)"
   ]
  }
 ],
 "metadata": {
  "kernelspec": {
   "display_name": "Python 3",
   "language": "python",
   "name": "python3"
  },
  "language_info": {
   "codemirror_mode": {
    "name": "ipython",
    "version": 3
   },
   "file_extension": ".py",
   "mimetype": "text/x-python",
   "name": "python",
   "nbconvert_exporter": "python",
   "pygments_lexer": "ipython3",
   "version": "3.9.4"
  }
 },
 "nbformat": 4,
 "nbformat_minor": 5
}
