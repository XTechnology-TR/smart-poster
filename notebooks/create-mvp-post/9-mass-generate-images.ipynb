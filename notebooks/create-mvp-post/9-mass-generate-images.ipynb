{
 "cells": [
  {
   "cell_type": "code",
   "execution_count": 1,
   "id": "broad-broadcasting",
   "metadata": {},
   "outputs": [],
   "source": [
    "import requests\n",
    "from src.image.crop import crop\n",
    "from PIL import Image\n",
    "from src.image.draw import resize_img\n",
    "from src.image.merge import merge_text_to_image\n",
    "from src.paths import LOCAL_PROCESSED_DATA_PATH\n",
    "\n",
    "from PIL import Image\n",
    "import requests\n",
    "\n",
    "from quote import quote\n",
    "\n",
    "from src.image.extract import ApiImgExtractor\n"
   ]
  },
  {
   "cell_type": "code",
   "execution_count": null,
   "id": "durable-pendant",
   "metadata": {},
   "outputs": [],
   "source": [
    "themes = ['Einstein', 'Elon Musk', 'Motivation', 'Self Development']\n",
    "format_ = \"PNG\"\n",
    "n = 10 # amount of quotes per theme\n",
    "for t in themes:\n",
    "    api = ApiImgExtractor('unsplash')\n",
    "    quotes = quote(t, limit=n)\n",
    "    api.query(_search_params={\n",
    "        'q': t,\n",
    "        'imgType': 'photos'\n",
    "    })\n",
    "    for i, (q, img_url) in enumerate(zip(quotes, api.img_urls)):\n",
    "        if not q or not img_url:\n",
    "            break\n",
    "        filepath = LOCAL_PROCESSED_DATA_PATH / f\"{t}_{i}.{format_}\"\n",
    "        img = crop(img_url, export=False, output_size=(1080,1080))\n",
    "        txt = q['quote']\n",
    "        post = merge_text_to_image(img, txt)\n",
    "        post.save(filepath, format_, quality=90)\n"
   ]
  },
  {
   "cell_type": "code",
   "execution_count": null,
   "id": "increasing-connectivity",
   "metadata": {},
   "outputs": [],
   "source": []
  },
  {
   "cell_type": "code",
   "execution_count": null,
   "id": "dental-engine",
   "metadata": {},
   "outputs": [],
   "source": [
    "\n",
    "for i, url in enumerate(api.img_urls):\n",
    "    print(i, url)\n",
    "api.paginate_results()\n",
    "print(20*'=')\n",
    "for i, url in enumerate(api.img_urls):\n",
    "    print(i, url)"
   ]
  },
  {
   "cell_type": "code",
   "execution_count": 9,
   "id": "broadband-botswana",
   "metadata": {},
   "outputs": [],
   "source": [
    "img_url = 'https://images.unsplash.com/photo-1567427018141-0584cfcbf1b8?crop=entropy&cs=srgb&fm=jpg&ixid=MnwxNTc1MDl8MHwxfHNlYXJjaHwzfHxTY2llbmNlfGVufDB8fHx8MTYxODkyMTQyMg&ixlib=rb-1.2.1&q=85'\n",
    "img = Image.open(requests.get(img_url, stream=True).raw)\n"
   ]
  },
  {
   "cell_type": "code",
   "execution_count": null,
   "id": "solar-momentum",
   "metadata": {},
   "outputs": [],
   "source": [
    "\n",
    "search = 'Einstein'\n",
    "result = quote(search, limit=1)\n",
    "print(result)\n",
    "\n",
    "img = Image.open(str(LOCAL_PROCESSED_DATA_PATH / 'f98fc032ccfa0d923eaa8ed1459422e46336998a.JPEG'))\n",
    "txt = \"Two things are infinite: the universe and human stupidity; and I'm not sure about the universe.\"\n",
    "\n",
    "resize_img(merged, (400,0))"
   ]
  }
 ],
 "metadata": {
  "kernelspec": {
   "display_name": "Python 3",
   "language": "python",
   "name": "python3"
  },
  "language_info": {
   "codemirror_mode": {
    "name": "ipython",
    "version": 3
   },
   "file_extension": ".py",
   "mimetype": "text/x-python",
   "name": "python",
   "nbconvert_exporter": "python",
   "pygments_lexer": "ipython3",
   "version": "3.9.4"
  }
 },
 "nbformat": 4,
 "nbformat_minor": 5
}
