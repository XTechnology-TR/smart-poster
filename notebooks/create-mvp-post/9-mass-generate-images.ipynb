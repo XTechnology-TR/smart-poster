{
 "cells": [
  {
   "cell_type": "code",
   "execution_count": 1,
   "id": "banner-width",
   "metadata": {},
   "outputs": [],
   "source": [
    "import requests\n",
    "from src.image.crop import crop\n",
    "from PIL import Image\n",
    "from src.image.draw import resize_img\n",
    "from src.image.merge import merge_text_to_image\n",
    "from src.paths import LOCAL_PROCESSED_DATA_PATH\n",
    "\n",
    "from PIL import Image\n",
    "import requests\n",
    "\n",
    "from quote import quote\n",
    "\n",
    "from src.image.extract import ApiImgExtractor\n"
   ]
  },
  {
   "cell_type": "code",
   "execution_count": 2,
   "id": "collect-opportunity",
   "metadata": {},
   "outputs": [
    {
     "name": "stdout",
     "output_type": "stream",
     "text": [
      "God 0\n"
     ]
    }
   ],
   "source": [
    "themes = ['God'\n",
    "#           , 'Einstein', 'Travel', 'Motivation', 'Religion'\n",
    "         ]\n",
    "format_ = \"PNG\"\n",
    "n = 1 # amount of quotes per theme\n",
    "for t in themes:\n",
    "    api = ApiImgExtractor('unsplash')\n",
    "    quotes = quote(t, limit=n)\n",
    "    api.query(_search_params={\n",
    "        'q': t,\n",
    "        'imgType': 'photos'\n",
    "    })\n",
    "    for i, (q, img_url) in enumerate(zip(quotes, api.img_urls)):\n",
    "        print(t, i)\n",
    "        if not q or not img_url:\n",
    "            break\n",
    "        filepath = LOCAL_PROCESSED_DATA_PATH / f\"{t}_{i}.{format_}\"\n",
    "        img = crop(img_url, export=False, output_size=(1080,1080))\n",
    "        txt = q['quote']\n",
    "        post = merge_text_to_image(img, txt, profile_url=\"@your.success.pills\", txt_aspect_ratio=.4, txt_brightness=3)\n",
    "        post.save(filepath, format_, quality=90)\n"
   ]
  },
  {
   "cell_type": "code",
   "execution_count": 8,
   "id": "rational-divide",
   "metadata": {},
   "outputs": [],
   "source": [
    "from src.image.draw import draw_text, resize_img"
   ]
  },
  {
   "cell_type": "code",
   "execution_count": 16,
   "id": "small-purchase",
   "metadata": {},
   "outputs": [
    {
     "data": {
      "image/png": "[encoded data removed]",
      "text/plain": [
       "<PIL.Image.Image image mode=RGBA size=44x300 at 0x1E58094E220>"
      ]
     },
     "execution_count": 16,
     "metadata": {},
     "output_type": "execute_result"
    }
   ],
   "source": []
  },
  {
   "cell_type": "code",
   "execution_count": null,
   "id": "advanced-astronomy",
   "metadata": {},
   "outputs": [],
   "source": []
  }
 ],
 "metadata": {
  "kernelspec": {
   "display_name": "Python 3",
   "language": "python",
   "name": "python3"
  },
  "language_info": {
   "codemirror_mode": {
    "name": "ipython",
    "version": 3
   },
   "file_extension": ".py",
   "mimetype": "text/x-python",
   "name": "python",
   "nbconvert_exporter": "python",
   "pygments_lexer": "ipython3",
   "version": "3.9.4"
  }
 },
 "nbformat": 4,
 "nbformat_minor": 5
}
