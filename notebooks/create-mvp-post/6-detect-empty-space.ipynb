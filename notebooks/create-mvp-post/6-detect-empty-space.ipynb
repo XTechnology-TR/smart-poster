{
 "cells": [
  {
   "cell_type": "code",
   "execution_count": 3,
   "id": "stable-marks",
   "metadata": {},
   "outputs": [],
   "source": [
    "# print('hi')\n",
    "import cv2\n",
    "from src.image.plot import show_imgs\n",
    "from src.image.draw import draw_boxes\n",
    "from src.image.detect import detect_objects\n",
    "from src.paths import LOCAL_PROCESSED_DATA_PATH\n",
    "\n",
    "img = cv2.imread(str(LOCAL_PROCESSED_DATA_PATH / \"675a67674968e7fa78d1b972ccb1bec9e5225b08.JPEG\"))\n",
    "classIds, classNames, confs, bbox = detect_objects(img)\n",
    "img_boxed, output_rectangles = draw_boxes(img, classIds, classNames, confs, bbox)"
   ]
  },
  {
   "cell_type": "code",
   "execution_count": 4,
   "id": "guided-stuff",
   "metadata": {},
   "outputs": [
    {
     "data": {
      "image/png": "[encoded data removed]",
      "text/plain": [
       "<Figure size 432x288 with 1 Axes>"
      ]
     },
     "metadata": {
      "needs_background": "light"
     },
     "output_type": "display_data"
    }
   ],
   "source": [
    "img = output_rectangles.copy()\n",
    "import matplotlib.pyplot as plt\n",
    "from sklearn.cluster import DBSCAN\n",
    "from sklearn.cluster import KMeans\n",
    "\n",
    "# For clustering the image using k-means, we first need to convert it into a 2-dimensional array\n",
    "# Use KMeans clustering algorithm from sklearn.cluster to cluster pixels in image\n",
    "# tweak the cluster size and see what happens to the Output\n",
    "kmeans = KMeans(n_clusters=3, random_state=0).fit(output_rectangles)\n",
    "# dbscan = DBSCAN(eps=3, min_samples=2).fit(output_rectangles)\n",
    "\n",
    "clustered = kmeans.cluster_centers_[kmeans.labels_]\n",
    "# clustered = dbscan.labels_\n",
    "\n",
    "# Reshape back the image from 2D to 3D image\n",
    "clustered_3D = clustered\n",
    "plt.imshow(clustered_3D)\n",
    "plt.title('Clustered Image')\n",
    "plt.show()"
   ]
  }
 ],
 "metadata": {
  "kernelspec": {
   "display_name": "Python 3",
   "language": "python",
   "name": "python3"
  },
  "language_info": {
   "codemirror_mode": {
    "name": "ipython",
    "version": 3
   },
   "file_extension": ".py",
   "mimetype": "text/x-python",
   "name": "python",
   "nbconvert_exporter": "python",
   "pygments_lexer": "ipython3",
   "version": "3.9.4"
  }
 },
 "nbformat": 4,
 "nbformat_minor": 5
}
