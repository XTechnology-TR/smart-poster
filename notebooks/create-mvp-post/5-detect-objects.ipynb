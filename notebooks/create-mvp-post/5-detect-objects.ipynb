{
 "cells": [
  {
   "cell_type": "code",
   "execution_count": 1,
   "id": "bound-norfolk",
   "metadata": {},
   "outputs": [],
   "source": [
    "import cv2\n",
    "from src.image.plot import show_imgs\n",
    "from src.image.draw import draw_boxes\n",
    "from src.image.detect import detect_objects\n",
    "from src.paths import LOCAL_PROCESSED_DATA_PATH\n",
    "\n",
    "img = cv2.imread(str(LOCAL_PROCESSED_DATA_PATH / \"675a67674968e7fa78d1b972ccb1bec9e5225b08.JPEG\"))\n",
    "classIds, classNames, confs, bbox = detect_objects(img)\n",
    "img_boxed, output_rectangles = draw_boxes(img, classIds, classNames, confs, bbox)\n",
    "show_imgs([img, img_boxed, output_rectangles])"
   ]
  }
 ],
 "metadata": {
  "kernelspec": {
   "display_name": "Python 3",
   "language": "python",
   "name": "python3"
  },
  "language_info": {
   "codemirror_mode": {
    "name": "ipython",
    "version": 3
   },
   "file_extension": ".py",
   "mimetype": "text/x-python",
   "name": "python",
   "nbconvert_exporter": "python",
   "pygments_lexer": "ipython3",
   "version": "3.9.4"
  }
 },
 "nbformat": 4,
 "nbformat_minor": 5
}
