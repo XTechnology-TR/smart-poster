{
 "cells": [
  {
   "cell_type": "code",
   "execution_count": 4,
   "id": "outside-student",
   "metadata": {},
   "outputs": [
    {
     "data": {
      "text/plain": [
       "(<PIL.PngImagePlugin.PngImageFile image mode=RGBA size=925x167 at 0x210657C5FA0>,\n",
       " <PIL.JpegImagePlugin.JpegImageFile image mode=RGB size=1080x1080 at 0x210672E78B0>)"
      ]
     },
     "execution_count": 4,
     "metadata": {},
     "output_type": "execute_result"
    }
   ],
   "source": [
    "import cv2\n",
    "import numpy as np\n",
    "from PIL import Image\n",
    "\n",
    "from src.paths import LOCAL_RAW_DATA_PATH, LOCAL_PROCESSED_DATA_PATH, LOCAL_MODELS_PATH\n",
    "txt_path = LOCAL_RAW_DATA_PATH / \"Two things are infinite-the universe and human stupidity-and I'm not sure about the universe.PNG\"\n",
    "img_path = LOCAL_PROCESSED_DATA_PATH / \"675a67674968e7fa78d1b972ccb1bec9e5225b08.JPEG\"\n",
    "txt = Image.open(txt_path)\n",
    "img = Image.open(img_path)\n",
    "txt, img"
   ]
  },
  {
   "cell_type": "code",
   "execution_count": 78,
   "id": "smaller-coast",
   "metadata": {},
   "outputs": [],
   "source": [
    "txt.thumbnail((600,600),Image.ANTIALIAS)\n"
   ]
  },
  {
   "cell_type": "code",
   "execution_count": 2,
   "id": "trying-milton",
   "metadata": {},
   "outputs": [],
   "source": [
    "# import cv2\n",
    "\n",
    "# thres = 0.45 # Threshold to detect object\n",
    "\n",
    "# cap = cv2.VideoCapture(0)\n",
    "# cap.set(3,1280)\n",
    "# cap.set(4,720)\n",
    "# cap.set(10,70)\n",
    "\n",
    "# classNames= []\n",
    "# classFile = LOCAL_MODELS_PATH / 'coco.names'\n",
    "# with open(classFile,'rt') as f:\n",
    "#     classNames = f.read().rstrip('\\n').split('\\n')\n",
    "\n",
    "# configPath = str(LOCAL_MODELS_PATH / 'ssd_mobilenet_v3_large_coco_2020_01_14.pbtxt')\n",
    "# weightsPath = str(LOCAL_MODELS_PATH / 'frozen_inference_graph.pb')\n",
    "\n",
    "# net = cv2.dnn_DetectionModel(weightsPath,configPath)\n",
    "# net.setInputSize(320,320)\n",
    "# net.setInputScale(1.0/ 127.5)\n",
    "# net.setInputMean((127.5, 127.5, 127.5))\n",
    "# net.setInputSwapRB(True)\n",
    "\n",
    "# while True:\n",
    "#     success,img = cap.read()\n",
    "#     classIds, confs, bbox = net.detect(img,confThreshold=thres)\n",
    "#     print(classIds,bbox)\n",
    "\n",
    "#     if len(classIds) != 0:\n",
    "#         for classId, confidence,box in zip(classIds.flatten(),confs.flatten(),bbox):\n",
    "#             cv2.rectangle(img,box,color=(0,255,0),thickness=2)\n",
    "#             cv2.putText(img,classNames[classId-1].upper(),(box[0]+10,box[1]+30),\n",
    "#                         cv2.FONT_HERSHEY_COMPLEX,1,(0,255,0),2)\n",
    "#             cv2.putText(img,str(round(confidence*100,2)),(box[0]+200,box[1]+30),c\n",
    "#                         cv2.FONT_HERSHEY_COMPLEX,1,(0,255,0),2)\n",
    "\n",
    "#     cv2.imshow(\"Output\",img)\n",
    "#     cv2.waitKey(1)\n"
   ]
  },
  {
   "cell_type": "code",
   "execution_count": null,
   "id": "comprehensive-breath",
   "metadata": {},
   "outputs": [],
   "source": [
    "img.resize()"
   ]
  },
  {
   "cell_type": "code",
   "execution_count": 8,
   "id": "declared-appearance",
   "metadata": {},
   "outputs": [],
   "source": [
    "import cv2\n",
    "\n",
    "thres = 0.45 # Threshold to detect object\n",
    "\n",
    "img = cv2.imread(str(LOCAL_PROCESSED_DATA_PATH / \"675a67674968e7fa78d1b972ccb1bec9e5225b08.JPEG\"))\n",
    "\n",
    "classNames= []\n",
    "classFile = LOCAL_MODELS_PATH / 'coco.names'\n",
    "with open(classFile,'rt') as f:\n",
    "    classNames = f.read().rstrip('\\n').split('\\n')\n",
    "\n",
    "configPath = str(LOCAL_MODELS_PATH / 'ssd_mobilenet_v3_large_coco_2020_01_14.pbtxt')\n",
    "weightsPath = str(LOCAL_MODELS_PATH / 'frozen_inference_graph.pb')\n",
    "\n",
    "net = cv2.dnn_DetectionModel(weightsPath,configPath)\n",
    "net.setInputSize(320,320)\n",
    "net.setInputScale(1.0/ 127.5)\n",
    "net.setInputMean((127.5, 127.5, 127.5))\n",
    "net.setInputSwapRB(True)\n",
    "\n",
    "classIds, confs, bbox = net.detect(img,confThreshold=thres)\n",
    "# print(classIds,bbox)\n",
    "\n",
    "for classId, confidence,box in zip(classIds.flatten(), confs.flatten(), bbox):\n",
    "    cv2.rectangle(img,box,color=(0,255,0),thickness=cv2.FILLED)\n",
    "    cv2.putText(img,classNames[classId-1].upper(),(box[0]+10,box[1]+30),cv2.FONT_HERSHEY_COMPLEX,1,(0,255,0),2)\n",
    "#     cv2.putText(img,str(round(confidence*100,2)),(box[0]+200,box[1]+30),c,cv2.FONT_HERSHEY_COMPLEX,1,(0,255,0),2)\n",
    "\n",
    "cv2.imshow(\"Output\",img)\n",
    "cv2.waitKey(0)\n",
    "cv2.destroyAllWindows()\n"
   ]
  },
  {
   "cell_type": "code",
   "execution_count": 25,
   "id": "focused-anniversary",
   "metadata": {},
   "outputs": [],
   "source": [
    "\n",
    "thres = 0.45 # Threshold to detect object\n",
    "\n",
    "img = cv2.imread(str(LOCAL_PROCESSED_DATA_PATH / \"675a67674968e7fa78d1b972ccb1bec9e5225b08.JPEG\"))\n",
    "\n",
    "classNames= []\n",
    "classFile = LOCAL_MODELS_PATH / 'coco.names'\n",
    "with open(classFile,'rt') as f:\n",
    "    classNames = f.read().rstrip('\\n').split('\\n')\n",
    "\n",
    "configPath = str(LOCAL_MODELS_PATH / 'ssd_mobilenet_v3_large_coco_2020_01_14.pbtxt')\n",
    "weightsPath = str(LOCAL_MODELS_PATH / 'frozen_inference_graph.pb')\n",
    "\n",
    "net = cv2.dnn_DetectionModel(weightsPath,configPath)\n",
    "net.setInputSize(320,320)\n",
    "net.setInputScale(1.0/ 127.5)\n",
    "net.setInputMean((127.5, 127.5, 127.5))\n",
    "net.setInputSwapRB(True)\n",
    "\n",
    "classIds, confs, bbox = net.detect(img,confThreshold=thres)\n",
    "# print(classIds,bbox)\n",
    "\n",
    "output_rectangles = np.zeros(img.shape, dtype=\"uint8\")\n",
    "for classId, confidence,box in zip(classIds.flatten(), confs.flatten(), bbox):\n",
    "    cv2.rectangle(img,box,color=(0,255,0),thickness=2)\n",
    "    rectangle = cv2.rectangle(output_rectangles,box,color=(255,255,255),thickness=cv2.FILLED)\n",
    "    \n",
    "    output_rectangles = cv2.bitwise_or(output_rectangles, rectangle)\n",
    "    cv2.putText(img,classNames[classId-1].upper(),(box[0]+10,box[1]+30),cv2.FONT_HERSHEY_COMPLEX,1,(0,255,0),2)\n",
    "#     cv2.putText(img,str(round(confidence*100,2)),(box[0]+200,box[1]+30),c,cv2.FONT_HERSHEY_COMPLEX,1,(0,255,0),2)\n",
    "\n",
    "cv2.imshow(\"Output\",img)\n",
    "cv2.imshow(\"Output Rectangles\",output_rectangles)\n",
    "\n",
    "cv2.waitKey(0)\n",
    "cv2.destroyAllWindows()\n"
   ]
  },
  {
   "cell_type": "code",
   "execution_count": 23,
   "id": "grave-session",
   "metadata": {},
   "outputs": [
    {
     "data": {
      "text/plain": [
       "array([[[0, 0, 0],\n",
       "        [0, 0, 0],\n",
       "        [0, 0, 0],\n",
       "        ...,\n",
       "        [0, 0, 0],\n",
       "        [0, 0, 0],\n",
       "        [0, 0, 0]],\n",
       "\n",
       "       [[0, 0, 0],\n",
       "        [0, 0, 0],\n",
       "        [0, 0, 0],\n",
       "        ...,\n",
       "        [0, 0, 0],\n",
       "        [0, 0, 0],\n",
       "        [0, 0, 0]],\n",
       "\n",
       "       [[0, 0, 0],\n",
       "        [0, 0, 0],\n",
       "        [0, 0, 0],\n",
       "        ...,\n",
       "        [0, 0, 0],\n",
       "        [0, 0, 0],\n",
       "        [0, 0, 0]],\n",
       "\n",
       "       ...,\n",
       "\n",
       "       [[0, 0, 0],\n",
       "        [0, 0, 0],\n",
       "        [0, 0, 0],\n",
       "        ...,\n",
       "        [0, 0, 0],\n",
       "        [0, 0, 0],\n",
       "        [0, 0, 0]],\n",
       "\n",
       "       [[0, 0, 0],\n",
       "        [0, 0, 0],\n",
       "        [0, 0, 0],\n",
       "        ...,\n",
       "        [0, 0, 0],\n",
       "        [0, 0, 0],\n",
       "        [0, 0, 0]],\n",
       "\n",
       "       [[0, 0, 0],\n",
       "        [0, 0, 0],\n",
       "        [0, 0, 0],\n",
       "        ...,\n",
       "        [0, 0, 0],\n",
       "        [0, 0, 0],\n",
       "        [0, 0, 0]]], dtype=uint8)"
      ]
     },
     "execution_count": 23,
     "metadata": {},
     "output_type": "execute_result"
    }
   ],
   "source": [
    "output_rectangles"
   ]
  }
 ],
 "metadata": {
  "kernelspec": {
   "display_name": "Python 3",
   "language": "python",
   "name": "python3"
  },
  "language_info": {
   "codemirror_mode": {
    "name": "ipython",
    "version": 3
   },
   "file_extension": ".py",
   "mimetype": "text/x-python",
   "name": "python",
   "nbconvert_exporter": "python",
   "pygments_lexer": "ipython3",
   "version": "3.9.4"
  }
 },
 "nbformat": 4,
 "nbformat_minor": 5
}
