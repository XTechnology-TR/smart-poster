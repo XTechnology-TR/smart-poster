{
 "cells": [
  {
   "cell_type": "markdown",
   "id": "environmental-center",
   "metadata": {},
   "source": [
    "# Squared Image"
   ]
  },
  {
   "cell_type": "code",
   "execution_count": 3,
   "id": "beginning-benjamin",
   "metadata": {},
   "outputs": [],
   "source": [
    "import cv2\n",
    "from src.image.plot import show_imgs\n",
    "from src.image.draw import draw_text, resize_img\n",
    "from src.paths import LOCAL_RAW_DATA_PATH, LOCAL_PROCESSED_DATA_PATH\n",
    "\n",
    "fg_path = str(LOCAL_RAW_DATA_PATH / 'bg-fade-bl-80pct-opaque.png')\n",
    "bg_path = str(LOCAL_PROCESSED_DATA_PATH / 'f98fc032ccfa0d923eaa8ed1459422e46336998a.JPEG')\n",
    "from PIL import Image\n",
    "\n",
    "background = Image.open(bg_path)\n",
    "foreground = Image.open(fg_path)\n",
    "\n",
    "background.paste(foreground, (0,0), foreground)\n",
    "background.show()\n",
    "\n",
    "txt = \"Two things are infinite: the universe and human stupidity; and I'm not sure about the universe.\"\n",
    "txt_img = draw_text(txt, fontsize=200, fontcolor_hex='#D2BB5C', target_ar=0.3)\n",
    "txt_img = resize_img(txt_img, (0,1000))\n",
    "\n",
    "background.paste(txt_img, (40,int((background.size[1] - txt_img.size[1])/2)), txt_img)\n",
    "background.show()"
   ]
  },
  {
   "cell_type": "markdown",
   "id": "generous-olympus",
   "metadata": {},
   "source": [
    "# Custom Sized Image"
   ]
  },
  {
   "cell_type": "code",
   "execution_count": 9,
   "id": "labeled-scoop",
   "metadata": {},
   "outputs": [],
   "source": [
    "import cv2\n",
    "from src.image.plot import show_imgs\n",
    "from src.image.draw import draw_text, resize_img\n",
    "from src.paths import LOCAL_RAW_DATA_PATH, LOCAL_PROCESSED_DATA_PATH\n",
    "\n",
    "fg_path = str(LOCAL_RAW_DATA_PATH / 'bg-fade-bl-100pct-opaque.png')\n",
    "im_path = str(LOCAL_PROCESSED_DATA_PATH / '34f210b6c969f16a6ff9127ee6107f7f2d03eb6f.JPEG')\n",
    "bg_path = str(LOCAL_RAW_DATA_PATH / 'bg-empty.png')\n",
    "from PIL import Image\n",
    "\n",
    "background = Image.open(bg_path).convert(\"RGBA\")\n",
    "image = Image.open(im_path).convert(\"RGBA\")\n",
    "foreground = Image.open(fg_path)\n",
    "\n",
    "\n",
    "background.paste(image, (int(background.size[0] - image.size[0]),0), image)\n",
    "background.paste(foreground, (0,0), foreground)\n",
    "# # background.show()\n",
    "\n",
    "txt = \"Two things are infinite: the universe and human stupidity; and I'm not sure about the universe.\"\n",
    "txt_img = draw_text(txt, fontsize=200, fontcolor_hex='#D2BB5C', target_ar=0.3)\n",
    "txt_img = resize_img(txt_img, (0,1000))\n",
    "\n",
    "background.paste(txt_img, (40,int((background.size[1] - txt_img.size[1])/2)), txt_img)\n",
    "background.show()"
   ]
  }
 ],
 "metadata": {
  "kernelspec": {
   "display_name": "Python 3",
   "language": "python",
   "name": "python3"
  },
  "language_info": {
   "codemirror_mode": {
    "name": "ipython",
    "version": 3
   },
   "file_extension": ".py",
   "mimetype": "text/x-python",
   "name": "python",
   "nbconvert_exporter": "python",
   "pygments_lexer": "ipython3",
   "version": "3.9.4"
  }
 },
 "nbformat": 4,
 "nbformat_minor": 5
}
