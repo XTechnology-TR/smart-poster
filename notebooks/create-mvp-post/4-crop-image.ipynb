{
 "cells": [
  {
   "cell_type": "code",
   "execution_count": 56,
   "id": "swedish-fabric",
   "metadata": {},
   "outputs": [],
   "source": [
    "import json\n",
    "import sys\n",
    "import requests\n",
    "from src.paths import LOCAL_PROCESSED_DATA_PATH\n",
    "\n",
    "from smartcrop import SmartCrop\n",
    "from PIL import Image\n",
    "\n",
    "from src.image.extract import search\n",
    "results = search(query='Einstein', type_='photos')\n",
    "photo_urls = []\n",
    "for photo in results.entries:\n",
    "    photo_urls.append(photo.link_download)"
   ]
  },
  {
   "cell_type": "code",
   "execution_count": 69,
   "id": "minor-hawaiian",
   "metadata": {},
   "outputs": [
    {
     "name": "stdout",
     "output_type": "stream",
     "text": [
      "https://unsplash.com/photos/P5nZwlbTngI/download\n"
     ]
    }
   ],
   "source": [
    "url = photo_urls[8]\n",
    "print(url)\n",
    "image = Image.open(requests.get(url, stream=True).raw)\n",
    "cropper = SmartCrop()\n",
    "result = sc.crop(image, 100, 100)\n",
    "box = (\n",
    "        result['top_crop']['x'],\n",
    "        result['top_crop']['y'],\n",
    "        result['top_crop']['width'] + result['top_crop']['x'],\n",
    "        result['top_crop']['height'] + result['top_crop']['y']\n",
    "    )\n",
    "cropped_image = image.crop(box)\n",
    "cropped_image.save(LOCAL_PROCESSED_DATA_PATH / \"test.JPEG\", 'JPEG', quality=90)"
   ]
  }
 ],
 "metadata": {
  "kernelspec": {
   "display_name": "Python 3",
   "language": "python",
   "name": "python3"
  },
  "language_info": {
   "codemirror_mode": {
    "name": "ipython",
    "version": 3
   },
   "file_extension": ".py",
   "mimetype": "text/x-python",
   "name": "python",
   "nbconvert_exporter": "python",
   "pygments_lexer": "ipython3",
   "version": "3.9.4"
  }
 },
 "nbformat": 4,
 "nbformat_minor": 5
}
