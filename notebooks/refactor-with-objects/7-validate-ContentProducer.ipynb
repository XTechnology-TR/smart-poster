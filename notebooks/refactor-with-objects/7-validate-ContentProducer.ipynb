{
 "cells": [
  {
   "cell_type": "code",
   "execution_count": null,
   "id": "seeing-trial",
   "metadata": {},
   "outputs": [
    {
     "name": "stderr",
     "output_type": "stream",
     "text": [
      "C:\\Users\\muril\\.virtualenvs\\insta-post-generator-N5ODM5nx\\lib\\site-packages\\gensim\\similarities\\__init__.py:15: UserWarning: The gensim.similarities.levenshtein submodule is disabled, because the optional Levenshtein package <https://pypi.org/project/python-Levenshtein/> is unavailable. Install Levenhstein (e.g. `pip install python-Levenshtein`) to suppress this warning.\n",
      "  warnings.warn(msg)\n",
      "[nltk_data] Downloading package stopwords to\n",
      "[nltk_data]     C:\\Users\\muril\\AppData\\Roaming\\nltk_data...\n",
      "[nltk_data]   Package stopwords is already up-to-date!\n",
      "[nltk_data] Downloading package wordnet to\n",
      "[nltk_data]     C:\\Users\\muril\\AppData\\Roaming\\nltk_data...\n",
      "[nltk_data]   Package wordnet is already up-to-date!\n",
      "\n",
      "2021-04-22 19:17:55,085 [detect] [_setup_model] [INFO] Computer Vision setup with model: `OpenCV_dnn_DetectionModel`\n",
      "\n",
      "2021-04-22 19:17:55,368 [detect] [detect_objects] [INFO] 1 object(s) detected. Minimum confidence level: 0.65\n",
      "\n",
      "2021-04-22 19:18:01,580 [detect] [_setup_model] [INFO] Computer Vision setup with model: `OpenCV_dnn_DetectionModel`\n",
      "\n",
      "2021-04-22 19:18:01,746 [detect] [detect_objects] [INFO] 1 object(s) detected. Minimum confidence level: 0.65\n",
      "\n",
      "2021-04-22 19:18:09,110 [detect] [_setup_model] [INFO] Computer Vision setup with model: `OpenCV_dnn_DetectionModel`\n",
      "\n",
      "2021-04-22 19:18:09,374 [detect] [detect_objects] [INFO] 2 object(s) detected. Minimum confidence level: 0.65\n",
      "\n",
      "2021-04-22 19:18:19,500 [detect] [_setup_model] [INFO] Computer Vision setup with model: `OpenCV_dnn_DetectionModel`\n",
      "\n",
      "2021-04-22 19:18:19,902 [detect] [detect_objects] [INFO] 1 object(s) detected. Minimum confidence level: 0.65\n",
      "\n",
      "2021-04-22 19:18:26,776 [detect] [_setup_model] [INFO] Computer Vision setup with model: `OpenCV_dnn_DetectionModel`\n",
      "\n",
      "2021-04-22 19:18:27,107 [detect] [detect_objects] [INFO] 1 object(s) detected. Minimum confidence level: 0.65\n",
      "\n",
      "2021-04-22 19:18:34,332 [detect] [_setup_model] [INFO] Computer Vision setup with model: `OpenCV_dnn_DetectionModel`\n",
      "\n",
      "2021-04-22 19:18:34,912 [detect] [detect_objects] [INFO] 1 object(s) detected. Minimum confidence level: 0.65\n",
      "\n",
      "2021-04-22 19:18:42,617 [detect] [_setup_model] [INFO] Computer Vision setup with model: `OpenCV_dnn_DetectionModel`\n",
      "\n",
      "2021-04-22 19:18:42,765 [detect] [detect_objects] [INFO] 2 object(s) detected. Minimum confidence level: 0.65\n",
      "\n",
      "2021-04-22 19:18:48,548 [detect] [_setup_model] [INFO] Computer Vision setup with model: `OpenCV_dnn_DetectionModel`\n",
      "\n",
      "2021-04-22 19:18:48,763 [detect] [detect_objects] [INFO] 0 object(s) detected. Minimum confidence level: 0.65\n",
      "\n",
      "2021-04-22 19:18:48,763 [detect] [flip_if_necessary] [INFO] Image not flipped\n",
      "\n",
      "2021-04-22 19:18:57,160 [detect] [_setup_model] [INFO] Computer Vision setup with model: `OpenCV_dnn_DetectionModel`\n",
      "\n",
      "2021-04-22 19:18:57,472 [detect] [detect_objects] [INFO] 3 object(s) detected. Minimum confidence level: 0.65\n",
      "\n",
      "2021-04-22 19:19:12,363 [detect] [_setup_model] [INFO] Computer Vision setup with model: `OpenCV_dnn_DetectionModel`\n",
      "\n",
      "2021-04-22 19:19:12,756 [detect] [detect_objects] [INFO] 1 object(s) detected. Minimum confidence level: 0.65\n",
      "\n",
      "2021-04-22 19:19:25,428 [detect] [_setup_model] [INFO] Computer Vision setup with model: `OpenCV_dnn_DetectionModel`\n",
      "\n",
      "2021-04-22 19:19:25,899 [detect] [detect_objects] [INFO] 1 object(s) detected. Minimum confidence level: 0.65\n",
      "\n",
      "2021-04-22 19:19:39,917 [detect] [_setup_model] [INFO] Computer Vision setup with model: `OpenCV_dnn_DetectionModel`\n",
      "\n",
      "2021-04-22 19:19:40,272 [detect] [detect_objects] [INFO] 1 object(s) detected. Minimum confidence level: 0.65\n"
     ]
    }
   ],
   "source": [
    "from src.content.produce import ContentProducer\n",
    "cp = ContentProducer(\n",
    "    themes=['pets', 'cats', 'dogs', 'swines', 'birds', 'rats'],\n",
    "    posts_per_theme=3,\n",
    "    profile_name='@petsmania',\n",
    ")\n",
    "cp.produce_content()"
   ]
  }
 ],
 "metadata": {
  "kernelspec": {
   "display_name": "Python 3",
   "language": "python",
   "name": "python3"
  },
  "language_info": {
   "codemirror_mode": {
    "name": "ipython",
    "version": 3
   },
   "file_extension": ".py",
   "mimetype": "text/x-python",
   "name": "python",
   "nbconvert_exporter": "python",
   "pygments_lexer": "ipython3",
   "version": "3.9.4"
  }
 },
 "nbformat": 4,
 "nbformat_minor": 5
}
