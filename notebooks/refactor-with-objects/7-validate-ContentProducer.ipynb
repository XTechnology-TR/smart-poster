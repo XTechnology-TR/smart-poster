{
 "cells": [
  {
   "cell_type": "code",
   "execution_count": 2,
   "id": "threaded-pixel",
   "metadata": {},
   "outputs": [
    {
     "name": "stderr",
     "output_type": "stream",
     "text": [
      "\n",
      "2021-04-24 14:33:28,330 [detect] [_setup_model] [INFO] Computer Vision setup with model: `OpenCV_dnn_DetectionModel`\n",
      "\n",
      "2021-04-24 14:33:28,593 [detect] [detect_objects] [INFO] 0 object(s) detected. Minimum confidence level: 0.65\n",
      "\n",
      "2021-04-24 14:33:28,594 [detect] [flip_if_necessary] [INFO] Image not flipped\n",
      "\n",
      "2021-04-24 14:33:43,218 [detect] [_setup_model] [INFO] Computer Vision setup with model: `OpenCV_dnn_DetectionModel`\n",
      "\n",
      "2021-04-24 14:33:43,714 [detect] [detect_objects] [INFO] 1 object(s) detected. Minimum confidence level: 0.65\n",
      "\n",
      "2021-04-24 14:33:49,939 [detect] [_setup_model] [INFO] Computer Vision setup with model: `OpenCV_dnn_DetectionModel`\n",
      "\n",
      "2021-04-24 14:33:50,232 [detect] [detect_objects] [INFO] 1 object(s) detected. Minimum confidence level: 0.65\n"
     ]
    },
    {
     "data": {
      "text/plain": [
       "[{'id': 'scars_0',\n",
       "  'theme': 'scars',\n",
       "  'filepath': WindowsPath('c:/users/muril/documents/github/insta-post-generator/data/processed/scars_0.PNG'),\n",
       "  'filepath_txt': WindowsPath('c:/users/muril/documents/github/insta-post-generator/data/processed/scars_0.txt')},\n",
       " {'id': 'scars_1',\n",
       "  'theme': 'scars',\n",
       "  'filepath': WindowsPath('c:/users/muril/documents/github/insta-post-generator/data/processed/scars_1.PNG'),\n",
       "  'filepath_txt': WindowsPath('c:/users/muril/documents/github/insta-post-generator/data/processed/scars_1.txt')},\n",
       " {'id': 'scars_2',\n",
       "  'theme': 'scars',\n",
       "  'filepath': WindowsPath('c:/users/muril/documents/github/insta-post-generator/data/processed/scars_2.PNG'),\n",
       "  'filepath_txt': WindowsPath('c:/users/muril/documents/github/insta-post-generator/data/processed/scars_2.txt')}]"
      ]
     },
     "execution_count": 2,
     "metadata": {},
     "output_type": "execute_result"
    }
   ],
   "source": [
    "from src.content.produce import ContentProducer\n",
    "cp = ContentProducer(\n",
    "    themes=['scars'],\n",
    "    posts_per_theme=3,\n",
    "    profile_name='@fairy.land',\n",
    ")\n",
    "cp.produce_content()"
   ]
  }
 ],
 "metadata": {
  "kernelspec": {
   "display_name": "Python 3",
   "language": "python",
   "name": "python3"
  },
  "language_info": {
   "codemirror_mode": {
    "name": "ipython",
    "version": 3
   },
   "file_extension": ".py",
   "mimetype": "text/x-python",
   "name": "python",
   "nbconvert_exporter": "python",
   "pygments_lexer": "ipython3",
   "version": "3.9.4"
  }
 },
 "nbformat": 4,
 "nbformat_minor": 5
}
