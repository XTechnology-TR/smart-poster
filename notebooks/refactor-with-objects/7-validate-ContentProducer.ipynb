{
 "cells": [
  {
   "cell_type": "code",
   "execution_count": 1,
   "id": "express-angle",
   "metadata": {},
   "outputs": [
    {
     "name": "stderr",
     "output_type": "stream",
     "text": [
      "C:\\Users\\muril\\.virtualenvs\\insta-post-generator-N5ODM5nx\\lib\\site-packages\\gensim\\similarities\\__init__.py:15: UserWarning: The gensim.similarities.levenshtein submodule is disabled, because the optional Levenshtein package <https://pypi.org/project/python-Levenshtein/> is unavailable. Install Levenhstein (e.g. `pip install python-Levenshtein`) to suppress this warning.\n",
      "  warnings.warn(msg)\n",
      "[nltk_data] Downloading package stopwords to\n",
      "[nltk_data]     C:\\Users\\muril\\AppData\\Roaming\\nltk_data...\n",
      "[nltk_data]   Package stopwords is already up-to-date!\n",
      "[nltk_data] Downloading package wordnet to\n",
      "[nltk_data]     C:\\Users\\muril\\AppData\\Roaming\\nltk_data...\n",
      "[nltk_data]   Package wordnet is already up-to-date!\n",
      "\n",
      "2021-04-24 12:33:06,033 [detect] [_setup_model] [INFO] Computer Vision setup with model: `OpenCV_dnn_DetectionModel`\n",
      "\n",
      "2021-04-24 12:33:06,428 [detect] [detect_objects] [INFO] 1 object(s) detected. Minimum confidence level: 0.65\n",
      "\n",
      "2021-04-24 12:33:12,614 [detect] [_setup_model] [INFO] Computer Vision setup with model: `OpenCV_dnn_DetectionModel`\n",
      "\n",
      "2021-04-24 12:33:12,899 [detect] [detect_objects] [INFO] 1 object(s) detected. Minimum confidence level: 0.65\n",
      "\n",
      "2021-04-24 12:33:18,752 [detect] [_setup_model] [INFO] Computer Vision setup with model: `OpenCV_dnn_DetectionModel`\n",
      "\n",
      "2021-04-24 12:33:19,092 [detect] [detect_objects] [INFO] 0 object(s) detected. Minimum confidence level: 0.65\n",
      "\n",
      "2021-04-24 12:33:19,093 [detect] [flip_if_necessary] [INFO] Image not flipped\n"
     ]
    },
    {
     "data": {
      "text/plain": [
       "[{'id': 'ANGEL_0',\n",
       "  'theme': 'ANGEL',\n",
       "  'filepath': WindowsPath('c:/users/muril/documents/github/insta-post-generator/data/processed/ANGEL_0.PNG'),\n",
       "  'filepath_txt': WindowsPath('c:/users/muril/documents/github/insta-post-generator/data/processed/ANGEL_0.txt')},\n",
       " {'id': 'ANGEL_1',\n",
       "  'theme': 'ANGEL',\n",
       "  'filepath': WindowsPath('c:/users/muril/documents/github/insta-post-generator/data/processed/ANGEL_1.PNG'),\n",
       "  'filepath_txt': WindowsPath('c:/users/muril/documents/github/insta-post-generator/data/processed/ANGEL_1.txt')},\n",
       " {'id': 'ANGEL_2',\n",
       "  'theme': 'ANGEL',\n",
       "  'filepath': WindowsPath('c:/users/muril/documents/github/insta-post-generator/data/processed/ANGEL_2.PNG'),\n",
       "  'filepath_txt': WindowsPath('c:/users/muril/documents/github/insta-post-generator/data/processed/ANGEL_2.txt')}]"
      ]
     },
     "execution_count": 1,
     "metadata": {},
     "output_type": "execute_result"
    }
   ],
   "source": [
    "from src.content.produce import ContentProducer\n",
    "cp = ContentProducer(\n",
    "    themes=['ANGEL'],\n",
    "    posts_per_theme=3,\n",
    "    profile_name='@fairy.land',\n",
    ")\n",
    "cp.produce_content()"
   ]
  }
 ],
 "metadata": {
  "kernelspec": {
   "display_name": "Python 3",
   "language": "python",
   "name": "python3"
  },
  "language_info": {
   "codemirror_mode": {
    "name": "ipython",
    "version": 3
   },
   "file_extension": ".py",
   "mimetype": "text/x-python",
   "name": "python",
   "nbconvert_exporter": "python",
   "pygments_lexer": "ipython3",
   "version": "3.9.4"
  }
 },
 "nbformat": 4,
 "nbformat_minor": 5
}
